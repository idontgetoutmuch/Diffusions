{
 "cells": [
  {
   "cell_type": "markdown",
   "metadata": {},
   "source": [
    "# Introduction"
   ]
  },
  {
   "cell_type": "markdown",
   "metadata": {},
   "source": [
    "Suppose we are observing exponential growth $\\dot{y} = \\theta y$ but we don't know $\\theta$ and wish to estimate it. We could assume $\\theta \\sim {\\cal{N}}(\\mu, \\sigma^2)$ and use something like Markov Chain Monte Carlo or Hamiltonian Monte Carlo and any observations to infer $\\mu$ and $\\sigma$. However, we might want to model that the further we go into the future, the less we know about $\\theta$. We can write our system as as\n",
    "\n",
    "$$\n",
    "\\begin{aligned}\n",
    "\\mathrm{d}y & = \\theta y\\mathrm{d}t \\\\\n",
    "\\mathrm{d}\\theta & = \\sigma\\mathrm{d}W_t\n",
    "\\end{aligned}\n",
    "$$\n",
    "\n",
    "where $W_t$ is Brownian Motion.\n",
    "\n",
    "\n"
   ]
  },
  {
   "cell_type": "markdown",
   "metadata": {},
   "source": [
    "$\\texttt{/Users/dom/Dropbox/Tidy/NumMethHaskell/DynSys.bib}$"
   ]
  },
  {
   "cell_type": "markdown",
   "metadata": {},
   "source": [
    "@Kantas2015"
   ]
  },
  {
   "cell_type": "markdown",
   "metadata": {},
   "source": [
    "# Fokker-Planck"
   ]
  },
  {
   "cell_type": "markdown",
   "metadata": {},
   "source": [
    "$$\n",
    "d \\mathbf{X}_{t}=\\boldsymbol{\\mu}\\left(\\mathbf{X}_{t}, t\\right) d t+\\boldsymbol{\\sigma}\\left(\\mathbf{X}_{t}, t\\right) d \\mathbf{W}_{t}\n",
    "$$"
   ]
  },
  {
   "cell_type": "markdown",
   "metadata": {},
   "source": [
    "$$\n",
    "\\frac{\\partial}{\\partial t} p(t, \\mathbf{x})+\\sum_{k=1}^{n} \\frac{\\partial}{\\partial x_{k}}\\left({\\mu}_{k}(t, \\mathbf{x}) p(t, \\mathbf{x})\\right)=\\frac{1}{2} \\sum_{j=1, k=1}^{n} \\frac{\\partial^{2}}{\\partial x_{j} \\partial x_{k}}\\left[\\left(\\sigma(t, \\mathbf{x}) \\sigma^{T}(t, \\mathbf{x})\\right)_{j k} p(t, \\mathbf{x})\\right]\n",
    "$$"
   ]
  },
  {
   "cell_type": "markdown",
   "metadata": {},
   "source": [
    "For our particular system we have"
   ]
  },
  {
   "cell_type": "markdown",
   "metadata": {},
   "source": [
    "$$\n",
    "\\frac{\\partial}{\\partial t} p(t, y, \\theta)+\\frac{\\partial}{\\partial y}\\left({\\mu}_{1}(t, y, \\theta) p(t, y, \\theta)\\right)+\\frac{\\partial}{\\partial \\theta}\\left({\\mu}_{2}(t, y, \\theta) p(t, y, \\theta)\\right)=\\frac{1}{2}\\left[\\sigma_{y}^{2} \\frac{\\partial^{2}}{\\partial y^{2}} p(t, y, \\theta)+\\sigma_{\\theta}^{2} \\frac{\\partial^{2}}{\\partial \\theta^{2}} p(t, y, \\theta)\\right]\n",
    "$$"
   ]
  },
  {
   "cell_type": "markdown",
   "metadata": {},
   "source": [
    "And since $\\mu_1 = \\theta y$, $\\mu_2 = 0$ and $\\sigma_y = 0$ this further simplifies to"
   ]
  },
  {
   "cell_type": "markdown",
   "metadata": {},
   "source": [
    "$$\n",
    "\\frac{\\partial}{\\partial t} p(t, y, \\theta)+\\frac{\\partial}{\\partial y}(\\theta y p(t, y, \\theta))=\\sigma_{\\theta}^{2} \\frac{\\partial^{2}}{\\partial \\theta^{2}} p(t, y, \\theta)\n",
    "$$"
   ]
  },
  {
   "cell_type": "markdown",
   "metadata": {},
   "source": [
    "We can note two things:\n",
    "\n",
    "* This is an advection / diffusion equation with two spatial variables ($y$ and $\\theta$).\n",
    "* If $\\sigma_\\theta = 0$ then this is a transport (advection?) equation."
   ]
  },
  {
   "cell_type": "markdown",
   "metadata": {},
   "source": [
    "$$\n",
    "\\frac{\\partial}{\\partial t} p(t, y, \\theta)+\\frac{\\partial}{\\partial y}(\\theta y p(t, y, \\theta))=0\n",
    "$$"
   ]
  },
  {
   "cell_type": "markdown",
   "metadata": {},
   "source": [
    "Thus we need to turn our attention to solving advection / diffusion equations."
   ]
  },
  {
   "cell_type": "markdown",
   "metadata": {},
   "source": [
    "# Diffusion"
   ]
  },
  {
   "cell_type": "markdown",
   "metadata": {},
   "source": [
    "Let's use the example given in the [ark examples](https://computing.llnl.gov/sites/default/files/public/ark_examples.pdf) (@hindmarsh2005sundials) as that way we can compare the results to check our implementation.\n",
    "\n",
    "We have"
   ]
  },
  {
   "cell_type": "markdown",
   "metadata": {},
   "source": [
    "$$\n",
    "u_{t}=k u_{x x} + f\n",
    "$$"
   ]
  },
  {
   "cell_type": "markdown",
   "metadata": {},
   "source": [
    "The initial condition is"
   ]
  },
  {
   "cell_type": "markdown",
   "metadata": {},
   "source": [
    "$$u(0, x)=0$$"
   ]
  },
  {
   "cell_type": "markdown",
   "metadata": {},
   "source": [
    "We allow no heat to escape at the boundaries $x = 0$ and $x = 1$"
   ]
  },
  {
   "cell_type": "markdown",
   "metadata": {},
   "source": [
    "$$\n",
    "\\frac{\\partial u}{\\partial t}(t, 0)=\\frac{\\partial u}{\\partial t}(t, 1)=0\n",
    "$$"
   ]
  },
  {
   "cell_type": "markdown",
   "metadata": {},
   "source": [
    "We have a point heat source in the middle"
   ]
  },
  {
   "cell_type": "markdown",
   "metadata": {},
   "source": [
    "$$\n",
    "f(t, x)=\\left\\{\\begin{array}{ll}{1} & {\\text { if } x=1 / 2} \\\\ {0} & {\\text { otherwise }}\\end{array}\\right.\n",
    "$$"
   ]
  },
  {
   "cell_type": "markdown",
   "metadata": {},
   "source": [
    "We can discretize over this spatial dimension using"
   ]
  },
  {
   "cell_type": "markdown",
   "metadata": {},
   "source": [
    "$$\n",
    "u_{x x}=\\frac{u_{j+1}-2 u_{j}+u_{j-1}}{\\Delta x^{2}}\n",
    "$$\n",
    "\n",
    "where\n",
    "\n",
    "$$\n",
    "u_{j}(t) \\triangleq u\\left(t, x_{j}\\right), \\quad x_{j} \\triangleq j \\Delta x, \\quad 0 \\leq j \\leq n+1\n",
    "$$"
   ]
  },
  {
   "cell_type": "markdown",
   "metadata": {},
   "source": [
    "$$\n",
    "\\dot{u}_i = \\sum_0^{n+1} A_{i\\,j} u_j + B_i, \\quad 0 \\leq i \\leq n+1\n",
    "$$\n",
    "\n",
    "where\n",
    "\n",
    "$$\n",
    "\\begin{aligned}\n",
    "A_{0\\,j}     = 0, & \\quad 0 \\leq j \\leq n+1, & \\text{boundary condition} \\\\\n",
    "A_{i\\,i-1}   = 1  &                          &                           \\\\\n",
    "A_{i\\,i}     = 2  &                          &                           \\\\\n",
    "A_{i\\,i+1}   = 1  &                          &                           \\\\\n",
    "A_{{n+1}\\,j} = 0, & \\quad 0 \\leq j \\leq n+1, & \\text{boundary condition} \\\\\n",
    "A_{i\\,j}     = 0  & \\quad \\text{otherwise}   &                           \\\\\n",
    "\\end{aligned}\n",
    "$$\n",
    "\n"
   ]
  },
  {
   "cell_type": "markdown",
   "metadata": {},
   "source": [
    "Converting this to a system of ODEs is straightforward:\n",
    "\n",
    "$$\n",
    "\\begin{bmatrix}\n",
    "\\dot{u_0} \\\\\n",
    "\\dot{u_1} \\\\\n",
    "\\dot{u_2}\n",
    "\\end{bmatrix}\n",
    "=\n",
    "\\begin{bmatrix}\n",
    "0 & 0 & 0 \\\\\n",
    "1 & 2 & 1 \\\\\n",
    "0 & 0 & 0\n",
    "\\end{bmatrix}\n",
    "\\begin{bmatrix}\n",
    "u_0 \\\\\n",
    "u_1 \\\\\n",
    "u_2\n",
    "\\end{bmatrix}\n",
    "+\n",
    "\\begin{bmatrix}\n",
    "f_0 \\\\\n",
    "f_1 \\\\\n",
    "f_2\n",
    "\\end{bmatrix}\n",
    "$$\n",
    "\n",
    "where $f_j \\triangleq f(t, x_j)$.\n",
    "\n"
   ]
  },
  {
   "cell_type": "markdown",
   "metadata": {},
   "source": [
    "$$\n",
    "\\begin{bmatrix}\n",
    "\\dot{u_0} \\\\\n",
    "\\dot{u_1} \\\\\n",
    "\\dot{u_2}\n",
    "\\end{bmatrix}\n",
    "=\n",
    "\\begin{bmatrix}\n",
    "0 & 0 & 0 \\\\\n",
    "1 & 2 & 1 \\\\\n",
    "0 & 0 & 0\n",
    "\\end{bmatrix}\n",
    "\\begin{bmatrix}\n",
    "u_0 \\\\\n",
    "u_1 \\\\\n",
    "u_2\n",
    "\\end{bmatrix}\n",
    "+\n",
    "\\begin{bmatrix}\n",
    "f_0 \\\\\n",
    "f_1 \\\\\n",
    "f_2\n",
    "\\end{bmatrix}\n",
    "$$\n"
   ]
  },
  {
   "cell_type": "code",
   "execution_count": 2,
   "metadata": {},
   "outputs": [],
   "source": [
    "import           Numeric.LinearAlgebra"
   ]
  },
  {
   "cell_type": "code",
   "execution_count": 1,
   "metadata": {},
   "outputs": [
    {
     "ename": "",
     "evalue": "",
     "output_type": "error",
     "traceback": [
      "<interactive>:1:1: error:\n    Could not find module ‘Numeric.Sundials.ARKode.ODE’\n    Use -v to see a list of the files searched for."
     ]
    }
   ],
   "source": [
    "import           Numeric.Sundials.ARKode.ODE"
   ]
  },
  {
   "cell_type": "code",
   "execution_count": null,
   "metadata": {},
   "outputs": [],
   "source": []
  }
 ],
 "metadata": {
  "kernelspec": {
   "display_name": "Haskell",
   "language": "haskell",
   "name": "haskell"
  },
  "language_info": {
   "codemirror_mode": "ihaskell",
   "file_extension": ".hs",
   "name": "haskell",
   "pygments_lexer": "Haskell",
   "version": "8.6.4"
  }
 },
 "nbformat": 4,
 "nbformat_minor": 2
}
