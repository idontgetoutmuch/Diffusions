{
 "cells": [
  {
   "cell_type": "markdown",
   "metadata": {
    "ein.tags": "worksheet-0",
    "slideshow": {
     "slide_type": "-"
    }
   },
   "source": [
    "# A Biological Example"
   ]
  },
  {
   "cell_type": "markdown",
   "metadata": {
    "ein.tags": "worksheet-0",
    "slideshow": {
     "slide_type": "-"
    }
   },
   "source": [
    "Suppose we are observing exponential growth $\\dot{y} = \\theta y$ but we don't know $\\theta$ and wish to estimate it. We could assume $\\theta \\sim {\\cal{N}}(\\mu, \\sigma^2)$ and use something like Markov Chain Monte Carlo or Hamiltonian Monte Carlo and any observations to infer $\\mu$ and $\\sigma$. However, we might want to model that the further we go into the future, the less we know about $\\theta$. We can write our system as as\n",
    "\n",
    "$$\n",
    "\\begin{aligned}\n",
    "\\mathrm{d}y & = \\theta y\\mathrm{d}t \\\\\n",
    "\\mathrm{d}\\theta & = \\sigma\\mathrm{d}W_t\n",
    "\\end{aligned}\n",
    "$$\n",
    "\n",
    "where $W_t$ is Brownian Motion."
   ]
  },
  {
   "cell_type": "markdown",
   "metadata": {
    "ein.tags": "worksheet-0",
    "slideshow": {
     "slide_type": "-"
    }
   },
   "source": [
    "# Fokker-Planck"
   ]
  },
  {
   "cell_type": "markdown",
   "metadata": {
    "ein.tags": "worksheet-0",
    "slideshow": {
     "slide_type": "-"
    }
   },
   "source": [
    "$$\n",
    "d \\mathbf{X}_{t}=\\boldsymbol{\\mu}\\left(\\mathbf{X}_{t}, t\\right) d t+\\boldsymbol{\\sigma}\\left(\\mathbf{X}_{t}, t\\right) d \\mathbf{W}_{t}\n",
    "$$"
   ]
  },
  {
   "cell_type": "markdown",
   "metadata": {
    "ein.tags": "worksheet-0",
    "slideshow": {
     "slide_type": "-"
    }
   },
   "source": [
    "$$\n",
    "\\frac{\\partial}{\\partial t} p(t, \\mathbf{x})+\\sum_{k=1}^{n} \\frac{\\partial}{\\partial x_{k}}\\left({\\mu}_{k}(t, \\mathbf{x}) p(t, \\mathbf{x})\\right)=\\frac{1}{2} \\sum_{j=1, k=1}^{n} \\frac{\\partial^{2}}{\\partial x_{j} \\partial x_{k}}\\left[\\left(\\sigma(t, \\mathbf{x}) \\sigma^{T}(t, \\mathbf{x})\\right)_{j k} p(t, \\mathbf{x})\\right]\n",
    "$$"
   ]
  },
  {
   "cell_type": "markdown",
   "metadata": {
    "ein.tags": "worksheet-0",
    "slideshow": {
     "slide_type": "-"
    }
   },
   "source": [
    "For our particular system we have"
   ]
  },
  {
   "cell_type": "markdown",
   "metadata": {
    "ein.tags": "worksheet-0",
    "slideshow": {
     "slide_type": "-"
    }
   },
   "source": [
    "$$\n",
    "\\frac{\\partial}{\\partial t} p(t, y, \\theta)+\\frac{\\partial}{\\partial y}\\left({\\mu}_{1}(t, y, \\theta) p(t, y, \\theta)\\right)+\\frac{\\partial}{\\partial \\theta}\\left({\\mu}_{2}(t, y, \\theta) p(t, y, \\theta)\\right)=\\frac{1}{2}\\left[\\sigma_{y}^{2} \\frac{\\partial^{2}}{\\partial y^{2}} p(t, y, \\theta)+\\sigma_{\\theta}^{2} \\frac{\\partial^{2}}{\\partial \\theta^{2}} p(t, y, \\theta)\\right]\n",
    "$$"
   ]
  },
  {
   "cell_type": "markdown",
   "metadata": {
    "ein.tags": "worksheet-0",
    "slideshow": {
     "slide_type": "-"
    }
   },
   "source": [
    "And since $\\mu_1 = \\theta y$, $\\mu_2 = 0$ and $\\sigma_y = 0$ this further simplifies to"
   ]
  },
  {
   "cell_type": "markdown",
   "metadata": {
    "ein.tags": "worksheet-0",
    "slideshow": {
     "slide_type": "-"
    }
   },
   "source": [
    "$$\n",
    "\\frac{\\partial}{\\partial t} p(t, y, \\theta)+\\frac{\\partial}{\\partial y}(\\theta y p(t, y, \\theta))=\\sigma_{\\theta}^{2} \\frac{\\partial^{2}}{\\partial \\theta^{2}} p(t, y, \\theta)\n",
    "$$"
   ]
  },
  {
   "cell_type": "markdown",
   "metadata": {
    "ein.tags": "worksheet-0",
    "slideshow": {
     "slide_type": "-"
    }
   },
   "source": [
    "We can note two things:\n",
    "\n",
    "* This is an advection / diffusion equation with two spatial variables ($y$ and $\\theta$).\n",
    "* If $\\sigma_\\theta = 0$ then this is a transport (advection?) equation."
   ]
  },
  {
   "cell_type": "markdown",
   "metadata": {
    "ein.tags": "worksheet-0",
    "slideshow": {
     "slide_type": "-"
    }
   },
   "source": [
    "$$\n",
    "\\frac{\\partial}{\\partial t} p(t, y, \\theta)+\\frac{\\partial}{\\partial y}(\\theta y p(t, y, \\theta))=0\n",
    "$$"
   ]
  },
  {
   "cell_type": "markdown",
   "metadata": {
    "ein.tags": "worksheet-0",
    "slideshow": {
     "slide_type": "-"
    }
   },
   "source": [
    "Notice that there is nothing stochastic about the biology but we\n",
    "express our uncertainty about the parameter by making it a\n",
    "time-varying stochastic variable which says the further we go into the\n",
    "future the less certain we are about it.\n",
    "\n",
    "We are going to turn this into a Fokker-Planck equation which we can\n",
    "then solve using e.g. the method of lines. But before turning to\n",
    "Fokker-Planck, let's show that we can indeed solve a diffusion\n",
    "equation using the method of lines."
   ]
  },
  {
   "cell_type": "markdown",
   "metadata": {
    "ein.tags": "worksheet-0",
    "slideshow": {
     "slide_type": "-"
    }
   },
   "source": [
    "Let us solve the heat equation"
   ]
  },
  {
   "cell_type": "markdown",
   "metadata": {
    "ein.tags": "worksheet-0",
    "slideshow": {
     "slide_type": "-"
    }
   },
   "source": [
    "$$\n",
    "\\frac{\\partial u}{\\partial t}=k_{x} \\frac{\\partial^{2} u}{\\partial x^{2}}+k_{y} \\frac{\\partial^{2} u}{\\partial y^{2}}+h\n",
    "$$"
   ]
  },
  {
   "cell_type": "markdown",
   "metadata": {
    "ein.tags": "worksheet-0",
    "slideshow": {
     "slide_type": "-"
    }
   },
   "source": [
    "with initial condition $u(0, x, y) = 0$ and stationary boundary conditions\n",
    "\n",
    "$$\n",
    "\\frac{\\partial u}{\\partial t}(t, 0, y)=\\frac{\\partial u}{\\partial t}(t, 1, y)=\\frac{\\partial u}{\\partial t}(t, x, 0)=\\frac{\\partial u}{\\partial t}(t, x, 1)=0\n",
    "$$\n",
    "\n",
    "and a periodic heat source\n",
    "\n",
    "$$\n",
    "h(x, y)=\\sin (\\pi x) \\sin (2 \\pi y)\n",
    "$$\n",
    "\n",
    "This has analytic solution\n",
    "\n",
    "$$\n",
    "u(t, x, y)=\\frac{1-e^{-\\left(k_{x}+4 k_{y}\\right) \\pi^{2} t}}{\\left(k_{x}+4 k_{y}\\right) \\pi^{2}} \\sin (\\pi x) \\sin (2 \\pi y)\n",
    "$$"
   ]
  },
  {
   "cell_type": "markdown",
   "metadata": {
    "ein.tags": "worksheet-0",
    "slideshow": {
     "slide_type": "-"
    }
   },
   "source": [
    "The spatial derivatives are computed using second-order centered differences, with the data distributed over $n_x \\times n_y$ points on a uniform spatial grid."
   ]
  },
  {
   "cell_type": "markdown",
   "metadata": {
    "ein.tags": "worksheet-0",
    "slideshow": {
     "slide_type": "-"
    }
   },
   "source": [
    "$$\n",
    "u_{i\\,j}(t) \\triangleq u\\left(t, x_{i}, y_{j}\\right), \\quad x_{i} \\triangleq i \\Delta x, \\quad 0 \\leq i \\leq n_x-1, \\quad  y_{j} \\triangleq j \\Delta y, \\quad 0 \\leq j \\leq n_y-1\n",
    "$$"
   ]
  },
  {
   "cell_type": "markdown",
   "metadata": {
    "ein.tags": "worksheet-0",
    "slideshow": {
     "slide_type": "-"
    }
   },
   "source": [
    "$$\n",
    "\\begin{align}\n",
    "u_{x x} &= \\frac{u_{i+1\\,j}-2 u_{i\\,j}+u_{i-1\\,j}}{\\Delta x^{2}} \\\\\n",
    "u_{y y} &= \\frac{u_{i\\,j+1}-2 u_{i\\,j}+u_{i\\,j-1}}{\\Delta y^{2}}\n",
    "\\end{align}\n",
    "$$"
   ]
  },
  {
   "cell_type": "markdown",
   "metadata": {
    "ein.tags": "worksheet-0",
    "slideshow": {
     "slide_type": "-"
    }
   },
   "source": [
    "$$\n",
    "\\dot{u}_{i\\, j} = \\frac{k_x}{(\\Delta x)^2}({u_{i+1\\,j}-2 u_{i\\,j}+u_{i-1\\,j}})\n",
    "                + \\frac{k_y}{(\\Delta y)^2}({u_{i\\,j+1}-2 u_{i\\,j}+u_{i\\,j-1}})\n",
    "                + h_{i\\, j}\n",
    "$$"
   ]
  },
  {
   "cell_type": "markdown",
   "metadata": {
    "ein.tags": "worksheet-0",
    "slideshow": {
     "slide_type": "-"
    }
   },
   "source": [
    "We could try using [Naperian functors and APL-like programming in Haskell](https://www.cs.ox.ac.uk/people/jeremy.gibbons/publications/aplicative.pdf) via this [library](http://hackage.haskell.org/package/Naperian). But the performance is terrible (or it could be that the author's implementation was terrible). Moreover, applied mathematicans tend to think of everything as matrices and vectors. But flattening the above tensor operation into a matrix operation is not entirely trivial. Although the Haskell Ecosystem's support for symbolic mathematics is very rudimentary, we can use what there is to convince ourselves that we haven't made too many errors in the transcription."
   ]
  },
  {
   "cell_type": "code",
   "execution_count": 1,
   "metadata": {
    "autoscroll": false,
    "collapsed": false,
    "ein.hycell": false,
    "ein.tags": "worksheet-0",
    "slideshow": {
     "slide_type": "-"
    }
   },
   "outputs": [],
   "source": [
    "{-# LANGUAGE DataKinds           #-}\n",
    "{-# LANGUAGE OverloadedLists     #-}\n",
    "{-# LANGUAGE ScopedTypeVariables #-}\n",
    "{-# LANGUAGE FlexibleContexts    #-}\n",
    "{-# LANGUAGE FlexibleInstances   #-}\n",
    "{-# LANGUAGE MultiParamTypeClasses #-}\n",
    "{-# LANGUAGE GADTs               #-}\n",
    "{-# LANGUAGE TypeApplications    #-}\n",
    "{-# LANGUAGE TypeOperators       #-}\n",
    "\n",
    "import Data.Number.Symbolic\n",
    "import qualified Data.Number.Symbolic as Sym\n",
    "import Data.Proxy\n",
    "\n",
    "import qualified Naperian as N\n",
    "import qualified GHC.TypeLits as M\n",
    "import           Data.Functor\n",
    "\n",
    "import           Numeric.Sundials.ARKode.ODE\n",
    "import           Numeric.LinearAlgebra"
   ]
  },
  {
   "cell_type": "markdown",
   "metadata": {
    "ein.tags": "worksheet-0",
    "slideshow": {
     "slide_type": "-"
    }
   },
   "source": [
    "$$\n",
    "\\dot{u}_{i\\, j} = \\frac{k_x}{(\\Delta x)^2}\\sum_{k=0}^{n_x-1}\\sum_{l=0}^{n_y-1}A_{i\\,j\\,k\\,l} u_{k\\,l}\n",
    "                + \\frac{k_y}{(\\Delta y)^2}\\sum_{k=0}^{n_x-1}\\sum_{l=0}^{n_y-1}B_{i\\,j\\,k\\,l} u_{k\\,l}\n",
    "                + h_{i\\, j}\n",
    "$$"
   ]
  },
  {
   "cell_type": "markdown",
   "metadata": {
    "ein.tags": "worksheet-0",
    "slideshow": {
     "slide_type": "-"
    }
   },
   "source": [
    "\n",
    "$$\n",
    "A_{i\\, j\\, l\\, k} =\n",
    "\\begin{cases}\n",
    "0,& \\text{if } i = 0 \\\\\n",
    "0,& \\text{if } j = 0 \\\\\n",
    "1,& \\text{if } k = i-1 \\text{ and } l = j \\\\\n",
    "-2,& \\text{if } k = i \\text{ and } l = j \\\\\n",
    "1,& \\text{if } k = i+1 \\text{ and } l = j \\\\\n",
    "0,& \\text{if } i = n_x - 1 \\\\\n",
    "0,& \\text{if } j = n_y - 1 \\\\\n",
    "0,& \\text{otherwise}\n",
    "\\end{cases}\n",
    "$$"
   ]
  },
  {
   "cell_type": "markdown",
   "metadata": {
    "ein.tags": "worksheet-0",
    "slideshow": {
     "slide_type": "-"
    }
   },
   "source": [
    "\n",
    "$$\n",
    "B_{i\\, j\\, l\\, k} =\n",
    "\\begin{cases}\n",
    "0,& \\text{if } i = 0 \\\\\n",
    "0,& \\text{if } j = 0 \\\\\n",
    "1,& \\text{if } k = i \\text{ and } l = j - 1 \\\\\n",
    "-2,& \\text{if } k = i \\text{ and } l = j \\\\\n",
    "1,& \\text{if } k = i \\text{ and } l = j + 1 \\\\\n",
    "0,& \\text{if } i = n_x - 1 \\\\\n",
    "0,& \\text{if } i = n_y - 1 \\\\\n",
    "0,& \\text{otherwise}\n",
    "\\end{cases}\n",
    "$$"
   ]
  },
  {
   "cell_type": "code",
   "execution_count": 2,
   "metadata": {
    "autoscroll": false,
    "collapsed": false,
    "ein.hycell": false,
    "ein.tags": "worksheet-0",
    "slideshow": {
     "slide_type": "-"
    }
   },
   "outputs": [],
   "source": [
    "preA :: forall b m n . (M.KnownNat m, M.KnownNat n, Num b) =>\n",
    "        N.Hyper '[N.Vector n, N.Vector m, N.Vector n, N.Vector m] b\n",
    "preA = N.Prism $ N.Prism $ N.Prism $ N.Prism $ N.Scalar $\n",
    "      N.viota @m <&> (\\(N.Fin x) ->\n",
    "      N.viota @n <&> (\\(N.Fin w) ->\n",
    "      N.viota @m <&> (\\(N.Fin v) ->\n",
    "      N.viota @n <&> (\\(N.Fin u) ->\n",
    "      (f m n x w v u)))))\n",
    "        where\n",
    "          m = fromIntegral $ M.natVal (undefined :: Proxy m)\n",
    "          n = fromIntegral $ M.natVal (undefined :: Proxy n)\n",
    "          f p q i j k l | i == 0               = 0\n",
    "                        | j == 0               = 0\n",
    "                        | i == p - 1           = 0\n",
    "                        | j == q - 1           = 0\n",
    "                        | k == i - 1 && l == j = 1\n",
    "                        | k == i     && l == j = -2\n",
    "                        | k == i + 1 && l == j = 1\n",
    "                        | otherwise            = 0"
   ]
  },
  {
   "cell_type": "code",
   "execution_count": 32,
   "metadata": {
    "autoscroll": false,
    "collapsed": false,
    "ein.hycell": false,
    "ein.tags": "worksheet-0",
    "slideshow": {
     "slide_type": "-"
    }
   },
   "outputs": [],
   "source": [
    "a :: forall a m n . (M.KnownNat m, M.KnownNat n, Floating a, Eq a) =>\n",
    "      N.Hyper '[N.Vector n, N.Vector m, N.Vector n, N.Vector m] (Sym a)\n",
    "a = N.binary (*) (N.Scalar $ var \"a\") preA"
   ]
  },
  {
   "cell_type": "code",
   "execution_count": 4,
   "metadata": {
    "autoscroll": false,
    "collapsed": false,
    "ein.hycell": false,
    "ein.tags": "worksheet-0",
    "slideshow": {
     "slide_type": "-"
    }
   },
   "outputs": [],
   "source": [
    "preB :: forall b m n . (M.KnownNat m, M.KnownNat n, Num b) =>\n",
    "        N.Hyper '[N.Vector n, N.Vector m, N.Vector n, N.Vector m] b\n",
    "preB = N.Prism $ N.Prism $ N.Prism $ N.Prism $ N.Scalar $\n",
    "      N.viota @m <&> (\\(N.Fin x) ->\n",
    "      N.viota @n <&> (\\(N.Fin w) ->\n",
    "      N.viota @m <&> (\\(N.Fin v) ->\n",
    "      N.viota @n <&> (\\(N.Fin u) ->\n",
    "      (f m n x w v u)))))\n",
    "        where\n",
    "          m = fromIntegral $ M.natVal (undefined :: Proxy m)\n",
    "          n = fromIntegral $ M.natVal (undefined :: Proxy n)\n",
    "          f :: Int -> Int -> Int -> Int -> Int -> Int -> b\n",
    "          f p q i j k l | i == 0                   = 0\n",
    "                        | j == 0                   = 0\n",
    "                        | i == p - 1               = 0\n",
    "                        | j == q - 1               = 0\n",
    "                        | k == i     && l == j - 1 = 1\n",
    "                        | k == i     && l == j     = -2\n",
    "                        | k == i     && l == j + 1 = 1\n",
    "                        | otherwise                = 0"
   ]
  },
  {
   "cell_type": "code",
   "execution_count": 33,
   "metadata": {
    "autoscroll": false,
    "collapsed": false,
    "ein.hycell": false,
    "ein.tags": "worksheet-0",
    "slideshow": {
     "slide_type": "-"
    }
   },
   "outputs": [],
   "source": [
    "b :: forall a m n . (M.KnownNat m, M.KnownNat n, Floating a, Eq a) =>\n",
    "           N.Hyper '[N.Vector n, N.Vector m, N.Vector n, N.Vector m] (Sym a)\n",
    "b = N.binary (*) (N.Scalar $ var \"b\") preB"
   ]
  },
  {
   "cell_type": "code",
   "execution_count": 34,
   "metadata": {
    "autoscroll": false,
    "collapsed": false,
    "ein.hycell": false,
    "ein.tags": "worksheet-0",
    "slideshow": {
     "slide_type": "-"
    }
   },
   "outputs": [],
   "source": [
    "preFoo = N.binary (+) (a @Double @3 @4) (b @Double @3 @4)"
   ]
  },
  {
   "cell_type": "code",
   "execution_count": 35,
   "metadata": {
    "autoscroll": false,
    "collapsed": false,
    "ein.hycell": false,
    "ein.tags": "worksheet-0",
    "slideshow": {
     "slide_type": "-"
    }
   },
   "outputs": [],
   "source": [
    "h :: forall m n a . (M.KnownNat m, M.KnownNat n, Floating a) =>\n",
    "                     N.Hyper '[N.Vector m, N.Vector n] (Sym a)\n",
    "h = N.Prism $ N.Prism $ N.Scalar $\n",
    "     N.viota @n <&> (\\(N.Fin x) ->\n",
    "     N.viota @m <&> (\\(N.Fin w) ->\n",
    "     var (\"u_{\" ++ show x ++ \",\" ++ show w ++ \"}\")))"
   ]
  },
  {
   "cell_type": "code",
   "execution_count": 36,
   "metadata": {
    "autoscroll": false,
    "collapsed": false,
    "ein.hycell": false,
    "ein.tags": "worksheet-0",
    "slideshow": {
     "slide_type": "-"
    }
   },
   "outputs": [],
   "source": [
    "postFoo = N.binary (*) preFoo (h @4 @3)"
   ]
  },
  {
   "cell_type": "code",
   "execution_count": 37,
   "metadata": {
    "autoscroll": false,
    "collapsed": false,
    "ein.hycell": false,
    "ein.tags": "worksheet-0",
    "slideshow": {
     "slide_type": "-"
    }
   },
   "outputs": [
    {
     "data": {
      "text/plain": [
       "<<<<0.0,0.0,0.0,0.0>,<0.0,0.0,0.0,0.0>,<0.0,0.0,0.0,0.0>>,<<0.0,0.0,0.0,0.0>,<0.0,0.0,0.0,0.0>,<0.0,0.0,0.0,0.0>>,<<0.0,0.0,0.0,0.0>,<0.0,0.0,0.0,0.0>,<0.0,0.0,0.0,0.0>>,<<0.0,0.0,0.0,0.0>,<0.0,0.0,0.0,0.0>,<0.0,0.0,0.0,0.0>>>,<<<0.0,0.0,0.0,0.0>,<0.0,0.0,0.0,0.0>,<0.0,0.0,0.0,0.0>>,<<0.0,c_2*u_{0,1},0.0,0.0>,<c_1*u_{1,0},((-2.0)*c_2+(-2.0)*c_1)*u_{1,1},c_1*u_{1,2},0.0>,<0.0,c_2*u_{2,1},0.0,0.0>>,<<0.0,0.0,c_2*u_{0,2},0.0>,<0.0,c_1*u_{1,1},((-2.0)*c_2+(-2.0)*c_1)*u_{1,2},c_1*u_{1,3}>,<0.0,0.0,c_2*u_{2,2},0.0>>,<<0.0,0.0,0.0,0.0>,<0.0,0.0,0.0,0.0>,<0.0,0.0,0.0,0.0>>>,<<<0.0,0.0,0.0,0.0>,<0.0,0.0,0.0,0.0>,<0.0,0.0,0.0,0.0>>,<<0.0,0.0,0.0,0.0>,<0.0,0.0,0.0,0.0>,<0.0,0.0,0.0,0.0>>,<<0.0,0.0,0.0,0.0>,<0.0,0.0,0.0,0.0>,<0.0,0.0,0.0,0.0>>,<<0.0,0.0,0.0,0.0>,<0.0,0.0,0.0,0.0>,<0.0,0.0,0.0,0.0>>>>"
      ]
     },
     "metadata": {},
     "output_type": "display_data"
    }
   ],
   "source": [
    "postFoo"
   ]
  },
  {
   "cell_type": "code",
   "execution_count": 38,
   "metadata": {
    "autoscroll": false,
    "collapsed": false,
    "ein.hycell": false,
    "ein.tags": "worksheet-0",
    "slideshow": {
     "slide_type": "-"
    }
   },
   "outputs": [
    {
     "data": {
      "text/html": [
       "<style>/* Styles used for the Hoogle display in the pager */\n",
       ".hoogle-doc {\n",
       "display: block;\n",
       "padding-bottom: 1.3em;\n",
       "padding-left: 0.4em;\n",
       "}\n",
       ".hoogle-code {\n",
       "display: block;\n",
       "font-family: monospace;\n",
       "white-space: pre;\n",
       "}\n",
       ".hoogle-text {\n",
       "display: block;\n",
       "}\n",
       ".hoogle-name {\n",
       "color: green;\n",
       "font-weight: bold;\n",
       "}\n",
       ".hoogle-head {\n",
       "font-weight: bold;\n",
       "}\n",
       ".hoogle-sub {\n",
       "display: block;\n",
       "margin-left: 0.4em;\n",
       "}\n",
       ".hoogle-package {\n",
       "font-weight: bold;\n",
       "font-style: italic;\n",
       "}\n",
       ".hoogle-module {\n",
       "font-weight: bold;\n",
       "}\n",
       ".hoogle-class {\n",
       "font-weight: bold;\n",
       "}\n",
       ".get-type {\n",
       "color: green;\n",
       "font-weight: bold;\n",
       "font-family: monospace;\n",
       "display: block;\n",
       "white-space: pre-wrap;\n",
       "}\n",
       ".show-type {\n",
       "color: green;\n",
       "font-weight: bold;\n",
       "font-family: monospace;\n",
       "margin-left: 1em;\n",
       "}\n",
       ".mono {\n",
       "font-family: monospace;\n",
       "display: block;\n",
       "}\n",
       ".err-msg {\n",
       "color: red;\n",
       "font-style: italic;\n",
       "font-family: monospace;\n",
       "white-space: pre;\n",
       "display: block;\n",
       "}\n",
       "#unshowable {\n",
       "color: red;\n",
       "font-weight: bold;\n",
       "}\n",
       ".err-msg.in.collapse {\n",
       "padding-top: 0.7em;\n",
       "}\n",
       ".highlight-code {\n",
       "white-space: pre;\n",
       "font-family: monospace;\n",
       "}\n",
       ".suggestion-warning { \n",
       "font-weight: bold;\n",
       "color: rgb(200, 130, 0);\n",
       "}\n",
       ".suggestion-error { \n",
       "font-weight: bold;\n",
       "color: red;\n",
       "}\n",
       ".suggestion-name {\n",
       "font-weight: bold;\n",
       "}\n",
       "</style><span class='get-type'>postFoo :: Hyper '[Vector 4, Vector 3, Vector 4, Vector 3] (Sym Double)</span>"
      ],
      "text/plain": [
       "postFoo :: Hyper '[Vector 4, Vector 3, Vector 4, Vector 3] (Sym Double)"
      ]
     },
     "metadata": {},
     "output_type": "display_data"
    }
   ],
   "source": [
    ":t postFoo"
   ]
  },
  {
   "cell_type": "code",
   "execution_count": 42,
   "metadata": {
    "autoscroll": false,
    "collapsed": false,
    "ein.hycell": false,
    "ein.tags": "worksheet-0",
    "slideshow": {
     "slide_type": "-"
    }
   },
   "outputs": [
    {
     "data": {
      "text/plain": [
       "<<u_{0,0},u_{0,1},u_{0,2},u_{0,3}>,<u_{1,0},u_{1,1},u_{1,2},u_{1,3}>,<u_{2,0},u_{2,1},u_{2,2},u_{2,3}>>"
      ]
     },
     "metadata": {},
     "output_type": "display_data"
    }
   ],
   "source": [
    "(h @4 @3)"
   ]
  },
  {
   "cell_type": "code",
   "execution_count": 41,
   "metadata": {
    "autoscroll": false,
    "collapsed": false,
    "ein.hycell": false,
    "ein.tags": "worksheet-0",
    "slideshow": {
     "slide_type": "-"
    }
   },
   "outputs": [
    {
     "data": {
      "text/plain": [
       "<<0.0,0.0,0.0,0.0>,<0.0,c_2*u_{0,1}+c_1*u_{1,0}+((-2.0)*c_2+(-2.0)*c_1)*u_{1,1}+c_1*u_{1,2}+c_2*u_{2,1},c_2*u_{0,2}+c_1*u_{1,1}+((-2.0)*c_2+(-2.0)*c_1)*u_{1,2}+c_1*u_{1,3}+c_2*u_{2,2},0.0>,<0.0,0.0,0.0,0.0>>"
      ]
     },
     "metadata": {},
     "output_type": "display_data"
    }
   ],
   "source": [
    "N.foldrH (+) 0 $ N.foldrH (+) 0 postFoo"
   ]
  },
  {
   "cell_type": "code",
   "execution_count": 39,
   "metadata": {
    "autoscroll": false,
    "collapsed": false,
    "ein.hycell": false,
    "ein.tags": "worksheet-0",
    "slideshow": {
     "slide_type": "-"
    }
   },
   "outputs": [
    {
     "data": {
      "text/plain": [
       "u_{0,0} &= 0.0 \\\\\n",
       "u_{0,0} &= 0.0 \\\\\n",
       "u_{0,0} &= 0.0 \\\\\n",
       "u_{0,0} &= 0.0 \\\\\n",
       "u_{0,0} &= 0.0 \\\\\n",
       "u_{0,0} &= c_2*u_{0,1}+c_1*u_{1,0}+((-2.0)*c_2+(-2.0)*c_1)*u_{1,1}+c_1*u_{1,2}+c_2*u_{2,1} \\\\\n",
       "u_{0,0} &= c_2*u_{0,2}+c_1*u_{1,1}+((-2.0)*c_2+(-2.0)*c_1)*u_{1,2}+c_1*u_{1,3}+c_2*u_{2,2} \\\\\n",
       "u_{0,0} &= 0.0 \\\\\n",
       "u_{0,0} &= 0.0 \\\\\n",
       "u_{0,0} &= 0.0 \\\\\n",
       "u_{0,0} &= 0.0 \\\\\n",
       "u_{0,0} &= 0.0 \\\\"
      ]
     },
     "metadata": {},
     "output_type": "display_data"
    }
   ],
   "source": [
    "mapM_ (putStrLn . (\"u_{0,0} &= \" ++) . (++ \" \\\\\\\\\") . show) $\n",
    "  fmap (sum . N.elements . N.Prism . N.Prism . N.Scalar) $\n",
    "  N.elements $ N.crystal $ N.crystal postFoo"
   ]
  },
  {
   "cell_type": "code",
   "execution_count": 31,
   "metadata": {
    "autoscroll": false,
    "collapsed": false,
    "ein.hycell": false,
    "ein.tags": "worksheet-0",
    "slideshow": {
     "slide_type": "-"
    }
   },
   "outputs": [
    {
     "data": {
      "text/plain": [
       "<<u_{0,0},u_{0,1},u_{0,2},u_{0,3}>,<u_{1,0},u_{1,1},u_{1,2},u_{1,3}>,<u_{2,0},u_{2,1},u_{2,2},u_{2,3}>>"
      ]
     },
     "metadata": {},
     "output_type": "display_data"
    }
   ],
   "source": [
    "(h @4 @3)"
   ]
  },
  {
   "cell_type": "markdown",
   "metadata": {
    "ein.tags": "worksheet-0",
    "slideshow": {
     "slide_type": "-"
    }
   },
   "source": [
    "$$\n",
    "\\begin{aligned}\n",
    "u_{0,0} &= 0.0 \\\\\n",
    "u_{0,1} &= 0.0 \\\\\n",
    "u_{0,2} &= 0.0 \\\\\n",
    "u_{0,3} &= 0.0 \\\\\n",
    "u_{1,0} &= 0.0 \\\\\n",
    "u_{1,1} &= a*u_{0,1}+b*u_{1,0}+((-2.0)*a+(-2.0)*b)*u_{1,1}+b*u_{1,2}+a*u_{2,1} \\\\\n",
    "u_{1,2} &= a*u_{0,2}+b*u_{1,1}+((-2.0)*a+(-2.0)*b)*u_{1,2}+b*u_{1,3}+a*u_{2,2} \\\\\n",
    "u_{1,3} &= 0.0 \\\\\n",
    "u_{2,0} &= 0.0 \\\\\n",
    "u_{2,1} &= 0.0 \\\\\n",
    "u_{2,2} &= 0.0 \\\\\n",
    "u_{2,3} &= 0.0 \\\\\n",
    "\\end{aligned}\n",
    "$$"
   ]
  },
  {
   "cell_type": "code",
   "execution_count": 13,
   "metadata": {
    "autoscroll": false,
    "collapsed": false,
    "ein.hycell": false,
    "ein.tags": "worksheet-0",
    "slideshow": {
     "slide_type": "-"
    }
   },
   "outputs": [
    {
     "data": {
      "text/plain": [
       "[[0.0,0.0,0.0,0.0,0.0,0.0,0.0,0.0,0.0,0.0,0.0,0.0],[0.0,0.0,0.0,0.0,0.0,0.0,0.0,0.0,0.0,0.0,0.0,0.0],[0.0,0.0,0.0,0.0,0.0,0.0,0.0,0.0,0.0,0.0,0.0,0.0],[0.0,0.0,0.0,0.0,0.0,0.0,0.0,0.0,0.0,0.0,0.0,0.0],[0.0,0.0,0.0,0.0,0.0,0.0,0.0,0.0,0.0,0.0,0.0,0.0],[0.0,c2,0.0,0.0,c1,(-2.0)*c2+(-2.0)*c1,c1,0.0,0.0,c2,0.0,0.0],[0.0,0.0,c2,0.0,0.0,c1,(-2.0)*c2+(-2.0)*c1,c1,0.0,0.0,c2,0.0],[0.0,0.0,0.0,0.0,0.0,0.0,0.0,0.0,0.0,0.0,0.0,0.0],[0.0,0.0,0.0,0.0,0.0,0.0,0.0,0.0,0.0,0.0,0.0,0.0],[0.0,0.0,0.0,0.0,0.0,0.0,0.0,0.0,0.0,0.0,0.0,0.0],[0.0,0.0,0.0,0.0,0.0,0.0,0.0,0.0,0.0,0.0,0.0,0.0],[0.0,0.0,0.0,0.0,0.0,0.0,0.0,0.0,0.0,0.0,0.0,0.0]]"
      ]
     },
     "metadata": {},
     "output_type": "display_data"
    }
   ],
   "source": [
    "fmap (N.elements . N.Prism . N.Prism . N.Scalar) $ N.elements $ N.crystal $ N.crystal preFoo"
   ]
  },
  {
   "cell_type": "code",
   "execution_count": 60,
   "metadata": {
    "autoscroll": false,
    "collapsed": false,
    "ein.hycell": false,
    "ein.tags": "worksheet-0",
    "slideshow": {
     "slide_type": "-"
    }
   },
   "outputs": [
    {
     "ename": "",
     "evalue": "",
     "output_type": "error",
     "traceback": [
      "<interactive>:1:1: error: Variable not in scope: postFoo"
     ]
    }
   ],
   "source": [
    "postFoo"
   ]
  },
  {
   "cell_type": "code",
   "execution_count": 35,
   "metadata": {
    "autoscroll": false,
    "collapsed": false,
    "ein.hycell": false,
    "ein.tags": "worksheet-0",
    "slideshow": {
     "slide_type": "-"
    }
   },
   "outputs": [],
   "source": [
    "foo = fmap (N.elements . N.Prism . N.Prism . N.Scalar) $\n",
    "      N.elements $ N.crystal $ N.crystal $\n",
    "      N.binary (+) (a @Double @3 @4) (b @Double @3 @4)"
   ]
  },
  {
   "cell_type": "code",
   "execution_count": 36,
   "metadata": {
    "autoscroll": false,
    "collapsed": false,
    "ein.hycell": false,
    "ein.tags": "worksheet-0",
    "slideshow": {
     "slide_type": "-"
    }
   },
   "outputs": [
    {
     "data": {
      "text/html": [
       "<style>/* Styles used for the Hoogle display in the pager */\n",
       ".hoogle-doc {\n",
       "display: block;\n",
       "padding-bottom: 1.3em;\n",
       "padding-left: 0.4em;\n",
       "}\n",
       ".hoogle-code {\n",
       "display: block;\n",
       "font-family: monospace;\n",
       "white-space: pre;\n",
       "}\n",
       ".hoogle-text {\n",
       "display: block;\n",
       "}\n",
       ".hoogle-name {\n",
       "color: green;\n",
       "font-weight: bold;\n",
       "}\n",
       ".hoogle-head {\n",
       "font-weight: bold;\n",
       "}\n",
       ".hoogle-sub {\n",
       "display: block;\n",
       "margin-left: 0.4em;\n",
       "}\n",
       ".hoogle-package {\n",
       "font-weight: bold;\n",
       "font-style: italic;\n",
       "}\n",
       ".hoogle-module {\n",
       "font-weight: bold;\n",
       "}\n",
       ".hoogle-class {\n",
       "font-weight: bold;\n",
       "}\n",
       ".get-type {\n",
       "color: green;\n",
       "font-weight: bold;\n",
       "font-family: monospace;\n",
       "display: block;\n",
       "white-space: pre-wrap;\n",
       "}\n",
       ".show-type {\n",
       "color: green;\n",
       "font-weight: bold;\n",
       "font-family: monospace;\n",
       "margin-left: 1em;\n",
       "}\n",
       ".mono {\n",
       "font-family: monospace;\n",
       "display: block;\n",
       "}\n",
       ".err-msg {\n",
       "color: red;\n",
       "font-style: italic;\n",
       "font-family: monospace;\n",
       "white-space: pre;\n",
       "display: block;\n",
       "}\n",
       "#unshowable {\n",
       "color: red;\n",
       "font-weight: bold;\n",
       "}\n",
       ".err-msg.in.collapse {\n",
       "padding-top: 0.7em;\n",
       "}\n",
       ".highlight-code {\n",
       "white-space: pre;\n",
       "font-family: monospace;\n",
       "}\n",
       ".suggestion-warning { \n",
       "font-weight: bold;\n",
       "color: rgb(200, 130, 0);\n",
       "}\n",
       ".suggestion-error { \n",
       "font-weight: bold;\n",
       "color: red;\n",
       "}\n",
       ".suggestion-name {\n",
       "font-weight: bold;\n",
       "}\n",
       "</style><span class='get-type'>foo :: [[Sym Double]]</span>"
      ],
      "text/plain": [
       "foo :: [[Sym Double]]"
      ]
     },
     "metadata": {},
     "output_type": "display_data"
    }
   ],
   "source": [
    ":t foo"
   ]
  },
  {
   "cell_type": "code",
   "execution_count": 38,
   "metadata": {
    "autoscroll": false,
    "collapsed": false,
    "ein.hycell": false,
    "ein.tags": "worksheet-0",
    "slideshow": {
     "slide_type": "-"
    }
   },
   "outputs": [
    {
     "data": {
      "text/plain": [
       "[0.0,0.0,0.0,0.0,0.0,0.0,0.0,0.0,0.0,0.0,0.0,0.0]\n",
       "[0.0,0.0,0.0,0.0,0.0,0.0,0.0,0.0,0.0,0.0,0.0,0.0]\n",
       "[0.0,0.0,0.0,0.0,0.0,0.0,0.0,0.0,0.0,0.0,0.0,0.0]\n",
       "[0.0,0.0,0.0,0.0,0.0,0.0,0.0,0.0,0.0,0.0,0.0,0.0]\n",
       "[0.0,0.0,0.0,0.0,0.0,0.0,0.0,0.0,0.0,0.0,0.0,0.0]\n",
       "[0.0,c2,0.0,0.0,c1,(-2.0)*c2+(-2.0)*c1,c1,0.0,0.0,c2,0.0,0.0]\n",
       "[0.0,0.0,c2,0.0,0.0,c1,(-2.0)*c2+(-2.0)*c1,c1,0.0,0.0,c2,0.0]\n",
       "[0.0,0.0,0.0,0.0,0.0,0.0,0.0,0.0,0.0,0.0,0.0,0.0]\n",
       "[0.0,0.0,0.0,0.0,0.0,0.0,0.0,0.0,0.0,0.0,0.0,0.0]\n",
       "[0.0,0.0,0.0,0.0,0.0,0.0,0.0,0.0,0.0,0.0,0.0,0.0]\n",
       "[0.0,0.0,0.0,0.0,0.0,0.0,0.0,0.0,0.0,0.0,0.0,0.0]\n",
       "[0.0,0.0,0.0,0.0,0.0,0.0,0.0,0.0,0.0,0.0,0.0,0.0]"
      ]
     },
     "metadata": {},
     "output_type": "display_data"
    }
   ],
   "source": [
    "mapM_ (putStrLn . show) $ fmap (N.elements . N.Prism . N.Prism . N.Scalar) $\n",
    "  N.elements $ N.crystal $ N.crystal $\n",
    "  N.binary (+) (a @Double @3 @4) (b @Double @3 @4)"
   ]
  },
  {
   "cell_type": "code",
   "execution_count": 51,
   "metadata": {
    "autoscroll": false,
    "collapsed": false,
    "ein.hycell": false,
    "ein.tags": "worksheet-0",
    "slideshow": {
     "slide_type": "-"
    }
   },
   "outputs": [
    {
     "data": {
      "text/plain": [
       "<<u_{0,0},u_{0,1},u_{0,2}>,<u_{1,0},u_{1,1},u_{1,2}>,<u_{2,0},u_{2,1},u_{2,2}>,<u_{3,0},u_{3,1},u_{3,2}>>"
      ]
     },
     "metadata": {},
     "output_type": "display_data"
    }
   ],
   "source": [
    "h @3 @4"
   ]
  },
  {
   "cell_type": "code",
   "execution_count": 52,
   "metadata": {
    "autoscroll": false,
    "collapsed": false,
    "ein.hycell": false,
    "ein.tags": "worksheet-0",
    "slideshow": {
     "slide_type": "-"
    }
   },
   "outputs": [
    {
     "data": {
      "text/html": [
       "<style>/* Styles used for the Hoogle display in the pager */\n",
       ".hoogle-doc {\n",
       "display: block;\n",
       "padding-bottom: 1.3em;\n",
       "padding-left: 0.4em;\n",
       "}\n",
       ".hoogle-code {\n",
       "display: block;\n",
       "font-family: monospace;\n",
       "white-space: pre;\n",
       "}\n",
       ".hoogle-text {\n",
       "display: block;\n",
       "}\n",
       ".hoogle-name {\n",
       "color: green;\n",
       "font-weight: bold;\n",
       "}\n",
       ".hoogle-head {\n",
       "font-weight: bold;\n",
       "}\n",
       ".hoogle-sub {\n",
       "display: block;\n",
       "margin-left: 0.4em;\n",
       "}\n",
       ".hoogle-package {\n",
       "font-weight: bold;\n",
       "font-style: italic;\n",
       "}\n",
       ".hoogle-module {\n",
       "font-weight: bold;\n",
       "}\n",
       ".hoogle-class {\n",
       "font-weight: bold;\n",
       "}\n",
       ".get-type {\n",
       "color: green;\n",
       "font-weight: bold;\n",
       "font-family: monospace;\n",
       "display: block;\n",
       "white-space: pre-wrap;\n",
       "}\n",
       ".show-type {\n",
       "color: green;\n",
       "font-weight: bold;\n",
       "font-family: monospace;\n",
       "margin-left: 1em;\n",
       "}\n",
       ".mono {\n",
       "font-family: monospace;\n",
       "display: block;\n",
       "}\n",
       ".err-msg {\n",
       "color: red;\n",
       "font-style: italic;\n",
       "font-family: monospace;\n",
       "white-space: pre;\n",
       "display: block;\n",
       "}\n",
       "#unshowable {\n",
       "color: red;\n",
       "font-weight: bold;\n",
       "}\n",
       ".err-msg.in.collapse {\n",
       "padding-top: 0.7em;\n",
       "}\n",
       ".highlight-code {\n",
       "white-space: pre;\n",
       "font-family: monospace;\n",
       "}\n",
       ".suggestion-warning { \n",
       "font-weight: bold;\n",
       "color: rgb(200, 130, 0);\n",
       "}\n",
       ".suggestion-error { \n",
       "font-weight: bold;\n",
       "color: red;\n",
       "}\n",
       ".suggestion-name {\n",
       "font-weight: bold;\n",
       "}\n",
       "</style><span class='get-type'>h @3 @4 :: forall a. Floating a => Hyper '[Vector 3, Vector 4] (Sym a)</span>"
      ],
      "text/plain": [
       "h @3 @4 :: forall a. Floating a => Hyper '[Vector 3, Vector 4] (Sym a)"
      ]
     },
     "metadata": {},
     "output_type": "display_data"
    }
   ],
   "source": [
    ":t h @3 @4"
   ]
  },
  {
   "cell_type": "code",
   "execution_count": 40,
   "metadata": {
    "autoscroll": false,
    "collapsed": false,
    "ein.hycell": false,
    "ein.tags": "worksheet-0",
    "slideshow": {
     "slide_type": "-"
    }
   },
   "outputs": [],
   "source": [
    "bar = [var $ (\\(x,y) -> \"u_{\" ++ show x ++ \",\" ++ show y ++ \"}\") (x,y) | y <- [1..3], x <- [1..4]] :: [Sym Double]"
   ]
  },
  {
   "cell_type": "code",
   "execution_count": 41,
   "metadata": {
    "autoscroll": false,
    "collapsed": false,
    "ein.hycell": false,
    "ein.tags": "worksheet-0",
    "slideshow": {
     "slide_type": "-"
    }
   },
   "outputs": [
    {
     "data": {
      "text/html": [
       "<style>/* Styles used for the Hoogle display in the pager */\n",
       ".hoogle-doc {\n",
       "display: block;\n",
       "padding-bottom: 1.3em;\n",
       "padding-left: 0.4em;\n",
       "}\n",
       ".hoogle-code {\n",
       "display: block;\n",
       "font-family: monospace;\n",
       "white-space: pre;\n",
       "}\n",
       ".hoogle-text {\n",
       "display: block;\n",
       "}\n",
       ".hoogle-name {\n",
       "color: green;\n",
       "font-weight: bold;\n",
       "}\n",
       ".hoogle-head {\n",
       "font-weight: bold;\n",
       "}\n",
       ".hoogle-sub {\n",
       "display: block;\n",
       "margin-left: 0.4em;\n",
       "}\n",
       ".hoogle-package {\n",
       "font-weight: bold;\n",
       "font-style: italic;\n",
       "}\n",
       ".hoogle-module {\n",
       "font-weight: bold;\n",
       "}\n",
       ".hoogle-class {\n",
       "font-weight: bold;\n",
       "}\n",
       ".get-type {\n",
       "color: green;\n",
       "font-weight: bold;\n",
       "font-family: monospace;\n",
       "display: block;\n",
       "white-space: pre-wrap;\n",
       "}\n",
       ".show-type {\n",
       "color: green;\n",
       "font-weight: bold;\n",
       "font-family: monospace;\n",
       "margin-left: 1em;\n",
       "}\n",
       ".mono {\n",
       "font-family: monospace;\n",
       "display: block;\n",
       "}\n",
       ".err-msg {\n",
       "color: red;\n",
       "font-style: italic;\n",
       "font-family: monospace;\n",
       "white-space: pre;\n",
       "display: block;\n",
       "}\n",
       "#unshowable {\n",
       "color: red;\n",
       "font-weight: bold;\n",
       "}\n",
       ".err-msg.in.collapse {\n",
       "padding-top: 0.7em;\n",
       "}\n",
       ".highlight-code {\n",
       "white-space: pre;\n",
       "font-family: monospace;\n",
       "}\n",
       ".suggestion-warning { \n",
       "font-weight: bold;\n",
       "color: rgb(200, 130, 0);\n",
       "}\n",
       ".suggestion-error { \n",
       "font-weight: bold;\n",
       "color: red;\n",
       "}\n",
       ".suggestion-name {\n",
       "font-weight: bold;\n",
       "}\n",
       "</style><span class='get-type'>bar :: [Sym Double]</span>"
      ],
      "text/plain": [
       "bar :: [Sym Double]"
      ]
     },
     "metadata": {},
     "output_type": "display_data"
    }
   ],
   "source": [
    ":t bar"
   ]
  },
  {
   "cell_type": "code",
   "execution_count": 43,
   "metadata": {
    "autoscroll": false,
    "collapsed": false,
    "ein.hycell": false,
    "ein.tags": "worksheet-0",
    "slideshow": {
     "slide_type": "-"
    }
   },
   "outputs": [
    {
     "data": {
      "text/plain": [
       "[u_{1,1},u_{2,1},u_{3,1},u_{4,1},u_{1,2},u_{2,2},u_{3,2},u_{4,2},u_{1,3},u_{2,3},u_{3,3},u_{4,3}]"
      ]
     },
     "metadata": {},
     "output_type": "display_data"
    }
   ],
   "source": [
    "bar"
   ]
  },
  {
   "cell_type": "code",
   "execution_count": 44,
   "metadata": {
    "autoscroll": false,
    "collapsed": false,
    "ein.hycell": false,
    "ein.tags": "worksheet-0",
    "slideshow": {
     "slide_type": "-"
    }
   },
   "outputs": [
    {
     "data": {
      "text/html": [
       "<style>/* Styles used for the Hoogle display in the pager */\n",
       ".hoogle-doc {\n",
       "display: block;\n",
       "padding-bottom: 1.3em;\n",
       "padding-left: 0.4em;\n",
       "}\n",
       ".hoogle-code {\n",
       "display: block;\n",
       "font-family: monospace;\n",
       "white-space: pre;\n",
       "}\n",
       ".hoogle-text {\n",
       "display: block;\n",
       "}\n",
       ".hoogle-name {\n",
       "color: green;\n",
       "font-weight: bold;\n",
       "}\n",
       ".hoogle-head {\n",
       "font-weight: bold;\n",
       "}\n",
       ".hoogle-sub {\n",
       "display: block;\n",
       "margin-left: 0.4em;\n",
       "}\n",
       ".hoogle-package {\n",
       "font-weight: bold;\n",
       "font-style: italic;\n",
       "}\n",
       ".hoogle-module {\n",
       "font-weight: bold;\n",
       "}\n",
       ".hoogle-class {\n",
       "font-weight: bold;\n",
       "}\n",
       ".get-type {\n",
       "color: green;\n",
       "font-weight: bold;\n",
       "font-family: monospace;\n",
       "display: block;\n",
       "white-space: pre-wrap;\n",
       "}\n",
       ".show-type {\n",
       "color: green;\n",
       "font-weight: bold;\n",
       "font-family: monospace;\n",
       "margin-left: 1em;\n",
       "}\n",
       ".mono {\n",
       "font-family: monospace;\n",
       "display: block;\n",
       "}\n",
       ".err-msg {\n",
       "color: red;\n",
       "font-style: italic;\n",
       "font-family: monospace;\n",
       "white-space: pre;\n",
       "display: block;\n",
       "}\n",
       "#unshowable {\n",
       "color: red;\n",
       "font-weight: bold;\n",
       "}\n",
       ".err-msg.in.collapse {\n",
       "padding-top: 0.7em;\n",
       "}\n",
       ".highlight-code {\n",
       "white-space: pre;\n",
       "font-family: monospace;\n",
       "}\n",
       ".suggestion-warning { \n",
       "font-weight: bold;\n",
       "color: rgb(200, 130, 0);\n",
       "}\n",
       ".suggestion-error { \n",
       "font-weight: bold;\n",
       "color: red;\n",
       "}\n",
       ".suggestion-name {\n",
       "font-weight: bold;\n",
       "}\n",
       "</style><div class=\"suggestion-name\" style=\"clear:both;\">Fuse mapM_/map</div><div class=\"suggestion-row\" style=\"float: left;\"><div class=\"suggestion-warning\">Found:</div><div class=\"highlight-code\" id=\"haskell\">mapM_ (putStrLn . show . sum) $ map (\\ r -> zipWith (*) r bar) foo</div></div><div class=\"suggestion-row\" style=\"float: left;\"><div class=\"suggestion-warning\">Why Not:</div><div class=\"highlight-code\" id=\"haskell\">mapM_ ((putStrLn . show . sum) . (\\ r -> zipWith (*) r bar)) foo</div></div><div class=\"suggestion-name\" style=\"clear:both;\">Use print</div><div class=\"suggestion-row\" style=\"float: left;\"><div class=\"suggestion-warning\">Found:</div><div class=\"highlight-code\" id=\"haskell\">putStrLn . show . sum</div></div><div class=\"suggestion-row\" style=\"float: left;\"><div class=\"suggestion-warning\">Why Not:</div><div class=\"highlight-code\" id=\"haskell\">print . sum</div></div>"
      ],
      "text/plain": [
       "Line 1: Fuse mapM_/map\n",
       "Found:\n",
       "mapM_ (putStrLn . show . sum) $ map (\\ r -> zipWith (*) r bar) foo\n",
       "Why not:\n",
       "mapM_ ((putStrLn . show . sum) . (\\ r -> zipWith (*) r bar)) fooLine 1: Use print\n",
       "Found:\n",
       "putStrLn . show . sum\n",
       "Why not:\n",
       "print . sum"
      ]
     },
     "metadata": {},
     "output_type": "display_data"
    },
    {
     "data": {
      "text/plain": [
       "0.0\n",
       "0.0\n",
       "0.0\n",
       "0.0\n",
       "0.0\n",
       "c2*u_{2,1}+c1*u_{1,2}+((-2.0)*c2+(-2.0)*c1)*u_{2,2}+c1*u_{3,2}+c2*u_{2,3}\n",
       "c2*u_{3,1}+c1*u_{2,2}+((-2.0)*c2+(-2.0)*c1)*u_{3,2}+c1*u_{4,2}+c2*u_{3,3}\n",
       "0.0\n",
       "0.0\n",
       "0.0\n",
       "0.0\n",
       "0.0"
      ]
     },
     "metadata": {},
     "output_type": "display_data"
    }
   ],
   "source": [
    "mapM_ (putStrLn . show . sum) $ map (\\r -> zipWith (*) r bar) foo"
   ]
  },
  {
   "cell_type": "markdown",
   "metadata": {
    "ein.tags": "worksheet-0",
    "slideshow": {
     "slide_type": "-"
    }
   },
   "source": [
    "$$\n",
    "\\begin{aligned}\n",
    "u_{11} &= 0.0 \\\\\n",
    "u_{12} &= 0.0 \\\\\n",
    "u_{13} &= 0.0 \\\\\n",
    "u_{14} &= 0.0 \\\\\n",
    "u_{21} &= 0.0 \\\\\n",
    "u_{22} &= c2*u_{2,1}+c1*u_{1,2}+((-2.0)*c2+(-2.0)*c1)*u_{2,2}+c1*u_{3,2}+c2*u_{2,3} \\\\\n",
    "u_{23} &= c2*u_{3,1}+c1*u_{2,2}+((-2.0)*c2+(-2.0)*c1)*u_{3,2}+c1*u_{4,2}+c2*u_{3,3} \\\\\n",
    "u_{24} &= 0.0 \\\\\n",
    "u_{31} &= 0.0 \\\\\n",
    "u_{32} &= 0.0 \\\\\n",
    "u_{33} &= 0.0 \\\\\n",
    "u_{34} &= 0.0\n",
    "\\end{aligned}\n",
    "$$"
   ]
  },
  {
   "cell_type": "markdown",
   "metadata": {
    "ein.tags": "worksheet-0",
    "slideshow": {
     "slide_type": "-"
    }
   },
   "source": [
    "Spatial mesh size:"
   ]
  },
  {
   "cell_type": "code",
   "execution_count": 15,
   "metadata": {
    "autoscroll": false,
    "collapsed": false,
    "ein.hycell": false,
    "ein.tags": "worksheet-0",
    "slideshow": {
     "slide_type": "-"
    }
   },
   "outputs": [],
   "source": [
    "nx, ny :: Int\n",
    "nx = 30\n",
    "ny = 60"
   ]
  },
  {
   "cell_type": "markdown",
   "metadata": {
    "ein.tags": "worksheet-0",
    "slideshow": {
     "slide_type": "-"
    }
   },
   "source": [
    "Heat conductivity coefficients:"
   ]
  },
  {
   "cell_type": "code",
   "execution_count": 16,
   "metadata": {
    "autoscroll": false,
    "collapsed": false,
    "ein.hycell": false,
    "ein.tags": "worksheet-0",
    "slideshow": {
     "slide_type": "-"
    }
   },
   "outputs": [],
   "source": [
    "kx, ky :: Floating a => a\n",
    "kx = 0.5\n",
    "ky = 0.75"
   ]
  },
  {
   "cell_type": "markdown",
   "metadata": {
    "ein.tags": "worksheet-0",
    "slideshow": {
     "slide_type": "-"
    }
   },
   "source": [
    "x and y mesh spacing:"
   ]
  },
  {
   "cell_type": "code",
   "execution_count": null,
   "metadata": {
    "autoscroll": false,
    "collapsed": false,
    "ein.hycell": false,
    "ein.tags": "worksheet-0",
    "slideshow": {
     "slide_type": "-"
    }
   },
   "outputs": [],
   "source": [
    "dx :: Floating a => a\n",
    "dx = 1 / (fromIntegral nx - 1)\n",
    "dy :: Floating a => a\n",
    "dy = 1 / (fromIntegral ny - 1)"
   ]
  },
  {
   "cell_type": "code",
   "execution_count": 17,
   "metadata": {
    "autoscroll": false,
    "collapsed": false,
    "ein.hycell": false,
    "ein.tags": "worksheet-0",
    "slideshow": {
     "slide_type": "-"
    }
   },
   "outputs": [],
   "source": [
    "c1, c2 :: Floating a => a\n",
    "c1 = kx/dx/dx\n",
    "c2 = ky/dy/dy"
   ]
  },
  {
   "cell_type": "code",
   "execution_count": 21,
   "metadata": {
    "autoscroll": false,
    "collapsed": false,
    "ein.hycell": false,
    "ein.tags": "worksheet-0",
    "slideshow": {
     "slide_type": "-"
    }
   },
   "outputs": [],
   "source": [
    "bNum :: forall a m n . (M.KnownNat m, M.KnownNat n, Floating a) =>\n",
    "        N.Hyper '[N.Vector n, N.Vector m, N.Vector n, N.Vector m] a\n",
    "bNum = N.binary (*) (N.Scalar c1) preB"
   ]
  },
  {
   "cell_type": "code",
   "execution_count": 22,
   "metadata": {
    "autoscroll": false,
    "collapsed": false,
    "ein.hycell": false,
    "ein.tags": "worksheet-0",
    "slideshow": {
     "slide_type": "-"
    }
   },
   "outputs": [],
   "source": [
    "aNum :: forall a m n . (M.KnownNat m, M.KnownNat n, Floating a) =>\n",
    "        N.Hyper '[N.Vector n, N.Vector m, N.Vector n, N.Vector m] a\n",
    "aNum = N.binary (*) (N.Scalar c2) preA"
   ]
  },
  {
   "cell_type": "code",
   "execution_count": 32,
   "metadata": {
    "autoscroll": false,
    "collapsed": false,
    "ein.hycell": false,
    "ein.tags": "worksheet-0",
    "slideshow": {
     "slide_type": "-"
    }
   },
   "outputs": [],
   "source": [
    "bigA :: Matrix Double\n",
    "bigA = fromLists $\n",
    "       fmap (N.elements . N.Prism . N.Prism . N.Scalar) $\n",
    "       N.elements $ N.crystal $ N.crystal $ N.binary (+)\n",
    "       (aNum @Double @3 @4) (bNum @Double @3 @4)"
   ]
  },
  {
   "cell_type": "code",
   "execution_count": 33,
   "metadata": {
    "autoscroll": false,
    "collapsed": false,
    "ein.hycell": false,
    "ein.tags": "worksheet-0",
    "slideshow": {
     "slide_type": "-"
    }
   },
   "outputs": [
    {
     "data": {
      "text/plain": [
       "(12><12)\n",
       " [ 0.0,   0.0, 0.0,   0.0,     0.0,     0.0,     0.0,     0.0,     0.0,     0.0,     0.0,     0.0\n",
       " , 0.0,   0.0, 0.0,   0.0,     0.0,     0.0,     0.0,     0.0,     0.0,     0.0,     0.0,     0.0\n",
       " , 0.0,   0.0, 0.0,   0.0,     0.0,     0.0,     0.0,     0.0,     0.0,     0.0,     0.0,     0.0\n",
       " , 0.0,   0.0, 0.0,   0.0,     0.0,     0.0,     0.0,     0.0,     0.0,     0.0,     0.0,     0.0\n",
       " , 0.0,   0.0, 0.0,   0.0,     0.0,     0.0,     0.0,     0.0,     0.0,     0.0,     0.0,     0.0\n",
       " , 0.0, 420.5, 0.0,   0.0, 2610.75, -6062.5, 2610.75,     0.0,     0.0,   420.5,     0.0,     0.0\n",
       " , 0.0,   0.0, 0.0,   0.0,     0.0,     0.0,     0.0,     0.0,     0.0,     0.0,     0.0,     0.0\n",
       " , 0.0,   0.0, 0.0, 420.5,     0.0,     0.0, 2610.75, -6062.5,     0.0,     0.0,     0.0,   420.5\n",
       " , 0.0,   0.0, 0.0,   0.0,     0.0,     0.0,     0.0,     0.0,     0.0,     0.0,     0.0,     0.0\n",
       " , 0.0,   0.0, 0.0,   0.0,     0.0,   420.5,     0.0,     0.0, 2610.75, -6062.5, 2610.75,     0.0\n",
       " , 0.0,   0.0, 0.0,   0.0,     0.0,     0.0,     0.0,     0.0,     0.0,     0.0,     0.0,     0.0\n",
       " , 0.0,   0.0, 0.0,   0.0,     0.0,     0.0,     0.0,   420.5,     0.0,     0.0, 2610.75, -6062.5 ]"
      ]
     },
     "metadata": {},
     "output_type": "display_data"
    }
   ],
   "source": [
    "bigA"
   ]
  },
  {
   "cell_type": "code",
   "execution_count": 1,
   "metadata": {
    "autoscroll": false,
    "collapsed": false,
    "ein.hycell": false,
    "ein.tags": "worksheet-0",
    "slideshow": {
     "slide_type": "-"
    }
   },
   "outputs": [],
   "source": [
    "{-# LANGUAGE DataKinds #-}\n",
    "{-# LANGUAGE OverloadedLists       #-}\n",
    "{-# LANGUAGE ScopedTypeVariables #-}\n",
    "{-# LANGUAGE FlexibleContexts    #-}\n",
    "{-# LANGUAGE GADTs               #-}"
   ]
  },
  {
   "cell_type": "code",
   "execution_count": 2,
   "metadata": {
    "autoscroll": false,
    "collapsed": false,
    "ein.hycell": false,
    "ein.tags": "worksheet-0",
    "slideshow": {
     "slide_type": "-"
    }
   },
   "outputs": [],
   "source": [
    "import Data.Maybe\n",
    "import Data.Number.Symbolic\n",
    "import Data.Proxy\n",
    "\n",
    "import qualified Naperian as N\n",
    "import qualified Data.Foldable as F\n",
    "import           Control.Applicative ( liftA2 )\n",
    "import qualified GHC.TypeLits as M\n",
    "\n",
    "import           Numeric.Sundials.ARKode.ODE\n",
    "import           Numeric.LinearAlgebra"
   ]
  },
  {
   "cell_type": "code",
   "execution_count": 3,
   "metadata": {
    "autoscroll": false,
    "collapsed": false,
    "ein.hycell": false,
    "ein.tags": "worksheet-0",
    "slideshow": {
     "slide_type": "-"
    }
   },
   "outputs": [],
   "source": [
    "x1, a, x2 :: Double\n",
    "x1 = 0\n",
    "a = 1.0\n",
    "x2 = a"
   ]
  },
  {
   "cell_type": "code",
   "execution_count": 4,
   "metadata": {
    "autoscroll": false,
    "collapsed": false,
    "ein.hycell": false,
    "ein.tags": "worksheet-0",
    "slideshow": {
     "slide_type": "-"
    }
   },
   "outputs": [],
   "source": [
    "y1, y2 :: Double\n",
    "y1 = 0.0\n",
    "y2 = 1.0"
   ]
  },
  {
   "cell_type": "code",
   "execution_count": 5,
   "metadata": {
    "autoscroll": false,
    "collapsed": false,
    "ein.hycell": false,
    "ein.tags": "worksheet-0",
    "slideshow": {
     "slide_type": "-"
    }
   },
   "outputs": [],
   "source": [
    "bigT :: Double\n",
    "bigT = 1000.0"
   ]
  },
  {
   "cell_type": "code",
   "execution_count": 6,
   "metadata": {
    "autoscroll": false,
    "collapsed": false,
    "ein.hycell": false,
    "ein.tags": "worksheet-0",
    "slideshow": {
     "slide_type": "-"
    }
   },
   "outputs": [],
   "source": [
    "n :: Int\n",
    "n = 2"
   ]
  },
  {
   "cell_type": "code",
   "execution_count": 7,
   "metadata": {
    "autoscroll": false,
    "collapsed": false,
    "ein.hycell": false,
    "ein.tags": "worksheet-0",
    "slideshow": {
     "slide_type": "-"
    }
   },
   "outputs": [],
   "source": [
    "dx :: Double\n",
    "dx = a / (fromIntegral n + 1)"
   ]
  },
  {
   "cell_type": "code",
   "execution_count": 8,
   "metadata": {
    "autoscroll": false,
    "collapsed": false,
    "ein.hycell": false,
    "ein.tags": "worksheet-0",
    "slideshow": {
     "slide_type": "-"
    }
   },
   "outputs": [],
   "source": [
    "dy :: Double\n",
    "dy = a / (fromIntegral n + 1)"
   ]
  },
  {
   "cell_type": "code",
   "execution_count": 9,
   "metadata": {
    "autoscroll": false,
    "collapsed": false,
    "ein.hycell": false,
    "ein.tags": "worksheet-0",
    "slideshow": {
     "slide_type": "-"
    }
   },
   "outputs": [],
   "source": [
    "beta, s :: Double\n",
    "beta = 1.0e-5\n",
    "s = beta / (dx * dx)"
   ]
  },
  {
   "cell_type": "markdown",
   "metadata": {
    "ein.tags": "worksheet-0",
    "slideshow": {
     "slide_type": "-"
    }
   },
   "source": [
    "Heat conductivity coefficients"
   ]
  },
  {
   "cell_type": "code",
   "execution_count": 10,
   "metadata": {
    "autoscroll": false,
    "collapsed": false,
    "ein.hycell": false,
    "ein.tags": "worksheet-0",
    "slideshow": {
     "slide_type": "-"
    }
   },
   "outputs": [],
   "source": [
    "kx, ky :: Double\n",
    "kx = 0.5\n",
    "ky = 0.75"
   ]
  },
  {
   "cell_type": "code",
   "execution_count": 11,
   "metadata": {
    "autoscroll": false,
    "collapsed": false,
    "ein.hycell": false,
    "ein.tags": "worksheet-0",
    "slideshow": {
     "slide_type": "-"
    }
   },
   "outputs": [],
   "source": [
    "c1, c2 :: Double\n",
    "c1 = kx/dx/dx\n",
    "c2 = ky/dy/dy"
   ]
  },
  {
   "cell_type": "markdown",
   "metadata": {
    "ein.tags": "worksheet-0",
    "slideshow": {
     "slide_type": "-"
    }
   },
   "source": [
    "We want to turn this into a matrix equation so that we can use `hmatrix-sundials`"
   ]
  },
  {
   "cell_type": "code",
   "execution_count": 12,
   "metadata": {
    "autoscroll": false,
    "collapsed": false,
    "ein.hycell": false,
    "ein.tags": "worksheet-0",
    "slideshow": {
     "slide_type": "-"
    }
   },
   "outputs": [],
   "source": [
    "bigAB :: Matrix Double\n",
    "bigAB = assoc (n * n, n * n) 0.0 [((i, j), f (i, j)) | i <- [0 .. n * n - 1]\n",
    "                                                      , j <- [i - n, i,  i + n]\n",
    "                                                      , j `elem` [0 .. n * n -1]]\n",
    "  where\n",
    "    f (i, j) | i     == j = (-2.0) * c1\n",
    "             | i - n == j = 1.0    * c1\n",
    "             | i + n == j = 1.0    * c1\n",
    "             | otherwise = error $ show (i, j)\n",
    "\n",
    "bigAA :: Matrix Double\n",
    "bigAA = diagBlock (replicate n bigA)\n",
    "  where\n",
    "    bigA :: Matrix Double\n",
    "    bigA = assoc (n, n) 0.0 [((i, j), f (i, j)) | i <- [0 .. n - 1]\n",
    "                                                , j <- [i-1..i+1]\n",
    "                                                , j `elem` [0..n-1]]\n",
    "      where\n",
    "        f (i, j) | i     == j = (-2.0) * c2\n",
    "                 | i - 1 == j = 1.0    * c2\n",
    "                 | i + 1 == j = 1.0    * c2\n",
    "\n",
    "bigAA :: Matrix Double\n",
    "bigAA = bigAB + bigAA"
   ]
  },
  {
   "cell_type": "code",
   "execution_count": 13,
   "metadata": {
    "autoscroll": false,
    "collapsed": false,
    "ein.hycell": false,
    "ein.tags": "worksheet-0",
    "slideshow": {
     "slide_type": "-"
    }
   },
   "outputs": [
    {
     "data": {
      "text/plain": [
       "(4><4)\n",
       " [ -9.0,  0.0,  4.5,  0.0\n",
       " ,  0.0, -9.0,  0.0,  4.5\n",
       " ,  4.5,  0.0, -9.0,  0.0\n",
       " ,  0.0,  4.5,  0.0, -9.0 ]"
      ]
     },
     "metadata": {},
     "output_type": "display_data"
    }
   ],
   "source": [
    "bigAB"
   ]
  },
  {
   "cell_type": "code",
   "execution_count": 14,
   "metadata": {
    "autoscroll": false,
    "collapsed": false,
    "ein.hycell": false,
    "ein.tags": "worksheet-0",
    "slideshow": {
     "slide_type": "-"
    }
   },
   "outputs": [
    {
     "data": {
      "text/plain": [
       "(4><4)\n",
       " [ -13.5,  6.75,   0.0,   0.0\n",
       " ,  6.75, -13.5,   0.0,   0.0\n",
       " ,   0.0,   0.0, -13.5,  6.75\n",
       " ,   0.0,   0.0,  6.75, -13.5 ]"
      ]
     },
     "metadata": {},
     "output_type": "display_data"
    }
   ],
   "source": [
    "bigAA"
   ]
  },
  {
   "cell_type": "markdown",
   "metadata": {
    "ein.tags": "worksheet-0",
    "slideshow": {
     "slide_type": "-"
    }
   },
   "source": [
    "$$\n",
    "h(x, y)=\\sin (\\pi x) \\sin (2 \\pi y)\n",
    "$$"
   ]
  },
  {
   "cell_type": "code",
   "execution_count": 15,
   "metadata": {
    "autoscroll": false,
    "collapsed": false,
    "ein.hycell": false,
    "ein.tags": "worksheet-0",
    "slideshow": {
     "slide_type": "-"
    }
   },
   "outputs": [
    {
     "data": {
      "text/plain": [
       "2"
      ]
     },
     "metadata": {},
     "output_type": "display_data"
    }
   ],
   "source": [
    "n"
   ]
  },
  {
   "cell_type": "code",
   "execution_count": 16,
   "metadata": {
    "autoscroll": false,
    "collapsed": false,
    "ein.hycell": false,
    "ein.tags": "worksheet-0",
    "slideshow": {
     "slide_type": "-"
    }
   },
   "outputs": [],
   "source": [
    "bigZZ1 :: Matrix Double\n",
    "bigZZ1 = assoc (m * m, m * m) 0.0 [((i, j), f (i, j)) | i <- [0 .. m * m - 1]\n",
    "                                                      , j <- [0 .. m * m - 1]]\n",
    "  where\n",
    "    m = n + 2\n",
    "    f (i, j) | i     == 0     = 0.0\n",
    "             | j     == 0     = 0.0\n",
    "             | i     == j     = (-2.0) * c1\n",
    "             | i - n == j     = 1.0    * c1\n",
    "             | i + n == j     = 1.0    * c1\n",
    "             | i     == n + 1 = 0.0\n",
    "             | j     == n + 1 = 0.0\n",
    "             | otherwise      = 0.0\n"
   ]
  },
  {
   "cell_type": "code",
   "execution_count": 17,
   "metadata": {
    "autoscroll": false,
    "collapsed": false,
    "ein.hycell": false,
    "ein.tags": "worksheet-0",
    "scrolled": true,
    "slideshow": {
     "slide_type": "-"
    }
   },
   "outputs": [
    {
     "data": {
      "text/plain": [
       "(16><16)\n",
       " [ 0.0,  0.0,  0.0,  0.0,  0.0,  0.0,  0.0,  0.0,  0.0,  0.0,  0.0,  0.0,  0.0,  0.0,  0.0,  0.0\n",
       " , 0.0, -9.0,  0.0,  4.5,  0.0,  0.0,  0.0,  0.0,  0.0,  0.0,  0.0,  0.0,  0.0,  0.0,  0.0,  0.0\n",
       " , 0.0,  0.0, -9.0,  0.0,  4.5,  0.0,  0.0,  0.0,  0.0,  0.0,  0.0,  0.0,  0.0,  0.0,  0.0,  0.0\n",
       " , 0.0,  4.5,  0.0, -9.0,  0.0,  4.5,  0.0,  0.0,  0.0,  0.0,  0.0,  0.0,  0.0,  0.0,  0.0,  0.0\n",
       " , 0.0,  0.0,  4.5,  0.0, -9.0,  0.0,  4.5,  0.0,  0.0,  0.0,  0.0,  0.0,  0.0,  0.0,  0.0,  0.0\n",
       " , 0.0,  0.0,  0.0,  4.5,  0.0, -9.0,  0.0,  4.5,  0.0,  0.0,  0.0,  0.0,  0.0,  0.0,  0.0,  0.0\n",
       " , 0.0,  0.0,  0.0,  0.0,  4.5,  0.0, -9.0,  0.0,  4.5,  0.0,  0.0,  0.0,  0.0,  0.0,  0.0,  0.0\n",
       " , 0.0,  0.0,  0.0,  0.0,  0.0,  4.5,  0.0, -9.0,  0.0,  4.5,  0.0,  0.0,  0.0,  0.0,  0.0,  0.0\n",
       " , 0.0,  0.0,  0.0,  0.0,  0.0,  0.0,  4.5,  0.0, -9.0,  0.0,  4.5,  0.0,  0.0,  0.0,  0.0,  0.0\n",
       " , 0.0,  0.0,  0.0,  0.0,  0.0,  0.0,  0.0,  4.5,  0.0, -9.0,  0.0,  4.5,  0.0,  0.0,  0.0,  0.0\n",
       " , 0.0,  0.0,  0.0,  0.0,  0.0,  0.0,  0.0,  0.0,  4.5,  0.0, -9.0,  0.0,  4.5,  0.0,  0.0,  0.0\n",
       " , 0.0,  0.0,  0.0,  0.0,  0.0,  0.0,  0.0,  0.0,  0.0,  4.5,  0.0, -9.0,  0.0,  4.5,  0.0,  0.0\n",
       " , 0.0,  0.0,  0.0,  0.0,  0.0,  0.0,  0.0,  0.0,  0.0,  0.0,  4.5,  0.0, -9.0,  0.0,  4.5,  0.0\n",
       " , 0.0,  0.0,  0.0,  0.0,  0.0,  0.0,  0.0,  0.0,  0.0,  0.0,  0.0,  4.5,  0.0, -9.0,  0.0,  4.5\n",
       " , 0.0,  0.0,  0.0,  0.0,  0.0,  0.0,  0.0,  0.0,  0.0,  0.0,  0.0,  0.0,  4.5,  0.0, -9.0,  0.0\n",
       " , 0.0,  0.0,  0.0,  0.0,  0.0,  0.0,  0.0,  0.0,  0.0,  0.0,  0.0,  0.0,  0.0,  4.5,  0.0, -9.0 ]"
      ]
     },
     "metadata": {},
     "output_type": "display_data"
    }
   ],
   "source": [
    "bigZZ1"
   ]
  },
  {
   "cell_type": "markdown",
   "metadata": {
    "autoscroll": false,
    "ein.hycell": false,
    "ein.tags": "worksheet-0",
    "slideshow": {
     "slide_type": "-"
    }
   },
   "source": [
    "$$\n",
    "\\dot{u}_{i\\, j} = \\frac{k_x}{(\\Delta x)^2}({u_{i+1\\,j}-2 u_{i\\,j}+u_{i-1\\,j}})\n",
    "                + \\frac{k_y}{(\\Delta y)^2}({u_{i\\,j+1}-2 u_{i\\,j}+u_{i\\,j-1}})\n",
    "$$"
   ]
  },
  {
   "cell_type": "code",
   "execution_count": 18,
   "metadata": {
    "autoscroll": false,
    "collapsed": false,
    "ein.hycell": false,
    "ein.tags": "worksheet-0",
    "slideshow": {
     "slide_type": "-"
    }
   },
   "outputs": [],
   "source": [
    "x :: forall m n . (M.KnownNat m, M.KnownNat n) => N.Vector n (N.Vector m (Sym Int))\n",
    "x = (fromJust . N.fromList) $\n",
    "    map (fromJust . N.fromList) ([[var $ (\\(x,y) -> \"A\" ++ show x ++ \",\" ++ show y) (x,y) | y <- [1..m]] | x <- [1..n]] :: [[Sym Int]])\n",
    "    where\n",
    "      m = M.natVal (undefined :: Proxy m)\n",
    "      n = M.natVal (undefined :: Proxy n)"
   ]
  },
  {
   "cell_type": "code",
   "execution_count": 19,
   "metadata": {
    "autoscroll": false,
    "collapsed": false,
    "ein.hycell": false,
    "ein.tags": "worksheet-0",
    "slideshow": {
     "slide_type": "-"
    }
   },
   "outputs": [],
   "source": [
    "u1 :: N.Hyper '[N.Vector 3, N.Vector 2] (Sym Int)\n",
    "u1 = N.Prism $ N.Prism (N.Scalar x)"
   ]
  },
  {
   "cell_type": "code",
   "execution_count": 20,
   "metadata": {
    "autoscroll": false,
    "collapsed": false,
    "ein.hycell": false,
    "ein.tags": "worksheet-0",
    "slideshow": {
     "slide_type": "-"
    }
   },
   "outputs": [
    {
     "data": {
      "text/plain": [
       "<<A1,1,A1,2,A1,3>,<A2,1,A2,2,A2,3>>"
      ]
     },
     "metadata": {},
     "output_type": "display_data"
    }
   ],
   "source": [
    "u1"
   ]
  },
  {
   "cell_type": "code",
   "execution_count": 21,
   "metadata": {
    "autoscroll": false,
    "collapsed": false,
    "ein.hycell": false,
    "ein.tags": "worksheet-0",
    "slideshow": {
     "slide_type": "-"
    }
   },
   "outputs": [],
   "source": [
    "y :: forall n . M.KnownNat n => N.Vector n (Sym Int)\n",
    "y = (fromJust . N.fromList) $\n",
    "    (map (var . (\"v\" ++) . show) [1..n ] :: [Sym Int])\n",
    "    where\n",
    "    n = M.natVal (undefined :: Proxy n)"
   ]
  },
  {
   "cell_type": "code",
   "execution_count": 22,
   "metadata": {
    "autoscroll": false,
    "collapsed": false,
    "ein.hycell": false,
    "ein.tags": "worksheet-0",
    "slideshow": {
     "slide_type": "-"
    }
   },
   "outputs": [],
   "source": [
    "u2 :: N.Hyper '[N.Vector 3] (Sym Int)\n",
    "u2 = N.Prism (N.Scalar y)"
   ]
  },
  {
   "cell_type": "code",
   "execution_count": 23,
   "metadata": {
    "autoscroll": false,
    "collapsed": false,
    "ein.hycell": false,
    "ein.tags": "worksheet-0",
    "slideshow": {
     "slide_type": "-"
    }
   },
   "outputs": [
    {
     "data": {
      "text/plain": [
       "<A1,1*v1+A1,2*v2+A1,3*v3,A2,1*v1+A2,2*v2+A2,3*v3>"
      ]
     },
     "metadata": {},
     "output_type": "display_data"
    }
   ],
   "source": [
    "N.innerH u1 u2"
   ]
  }
 ],
 "metadata": {
  "kernelspec": {
   "display_name": "Haskell",
   "name": "haskell"
  },
  "language_info": {
   "codemirror_mode": "ihaskell",
   "file_extension": ".hs",
   "name": "haskell",
   "pygments_lexer": "Haskell",
   "version": "8.6.4"
  },
  "name": "Two Dimensional Heat Equation.ipynb"
 },
 "nbformat": 4,
 "nbformat_minor": 2
}
