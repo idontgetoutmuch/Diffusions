{
 "cells": [
  {
   "cell_type": "markdown",
   "metadata": {
    "ein.tags": "worksheet-0",
    "slideshow": {
     "slide_type": "-"
    }
   },
   "source": [
    "# A Biological Example"
   ]
  },
  {
   "cell_type": "markdown",
   "metadata": {
    "ein.tags": "worksheet-0",
    "slideshow": {
     "slide_type": "-"
    }
   },
   "source": [
    "Suppose we are observing exponential growth $\\dot{y} = \\theta y$ but we don't know $\\theta$ and wish to estimate it. We could assume $\\theta \\sim {\\cal{N}}(\\mu, \\sigma^2)$ and use least squares or better something like Markov Chain Monte Carlo or Hamiltonian Monte Carlo and any observations to infer $\\mu$ and $\\sigma$. However, we might want to model that the further we go into the future, the less we know about $\\theta$. We can write our system as as\n",
    "\n",
    "$$\n",
    "\\begin{aligned}\n",
    "\\mathrm{d}y & = \\theta y\\mathrm{d}t \\\\\n",
    "\\mathrm{d}\\theta & = \\sigma\\mathrm{d}W_t\n",
    "\\end{aligned}\n",
    "$$\n",
    "\n",
    "where $W_t$ is Brownian Motion."
   ]
  },
  {
   "cell_type": "markdown",
   "metadata": {
    "ein.tags": "worksheet-0",
    "slideshow": {
     "slide_type": "-"
    }
   },
   "source": [
    "# Fokker-Planck"
   ]
  },
  {
   "cell_type": "markdown",
   "metadata": {},
   "source": [
    "We can use the [Fokker-Planck equation](https://en.wikipedia.org/wiki/Fokker%E2%80%93Planck_equation) to convert a stochastic differential equation into a partial differential equation."
   ]
  },
  {
   "cell_type": "markdown",
   "metadata": {
    "ein.tags": "worksheet-0",
    "slideshow": {
     "slide_type": "-"
    }
   },
   "source": [
    "$$\n",
    "d \\mathbf{X}_{t}=\\boldsymbol{\\mu}\\left(\\mathbf{X}_{t}, t\\right) d t+\\boldsymbol{\\sigma}\\left(\\mathbf{X}_{t}, t\\right) d \\mathbf{W}_{t}\n",
    "$$"
   ]
  },
  {
   "cell_type": "markdown",
   "metadata": {
    "ein.tags": "worksheet-0",
    "slideshow": {
     "slide_type": "-"
    }
   },
   "source": [
    "$$\n",
    "\\frac{\\partial}{\\partial t} p(t, \\mathbf{x})+\\sum_{k=1}^{n} \\frac{\\partial}{\\partial x_{k}}\\left({\\mu}_{k}(t, \\mathbf{x}) p(t, \\mathbf{x})\\right)=\\frac{1}{2} \\sum_{j=1, k=1}^{n} \\frac{\\partial^{2}}{\\partial x_{j} \\partial x_{k}}\\left[\\left(\\sigma(t, \\mathbf{x}) \\sigma^{T}(t, \\mathbf{x})\\right)_{j k} p(t, \\mathbf{x})\\right]\n",
    "$$"
   ]
  },
  {
   "cell_type": "markdown",
   "metadata": {
    "ein.tags": "worksheet-0",
    "slideshow": {
     "slide_type": "-"
    }
   },
   "source": [
    "For our particular system we have"
   ]
  },
  {
   "cell_type": "markdown",
   "metadata": {
    "ein.tags": "worksheet-0",
    "slideshow": {
     "slide_type": "-"
    }
   },
   "source": [
    "$$\n",
    "\\frac{\\partial}{\\partial t} p(t, y, \\theta)+\\frac{\\partial}{\\partial y}\\left({\\mu}_{1}(t, y, \\theta) p(t, y, \\theta)\\right)+\\frac{\\partial}{\\partial \\theta}\\left({\\mu}_{2}(t, y, \\theta) p(t, y, \\theta)\\right)=\\frac{1}{2}\\left[\\sigma_{y}^{2} \\frac{\\partial^{2}}{\\partial y^{2}} p(t, y, \\theta)+\\sigma_{\\theta}^{2} \\frac{\\partial^{2}}{\\partial \\theta^{2}} p(t, y, \\theta)\\right]\n",
    "$$"
   ]
  },
  {
   "cell_type": "markdown",
   "metadata": {
    "ein.tags": "worksheet-0",
    "slideshow": {
     "slide_type": "-"
    }
   },
   "source": [
    "And since $\\mu_1 = \\theta y$, $\\mu_2 = 0$ and $\\sigma_y = 0$ this further simplifies to"
   ]
  },
  {
   "cell_type": "markdown",
   "metadata": {
    "ein.tags": "worksheet-0",
    "slideshow": {
     "slide_type": "-"
    }
   },
   "source": [
    "$$\n",
    "\\frac{\\partial}{\\partial t} p(t, y, \\theta)+\\frac{\\partial}{\\partial y}(\\theta y p(t, y, \\theta))=\\sigma_{\\theta}^{2} \\frac{\\partial^{2}}{\\partial \\theta^{2}} p(t, y, \\theta)\n",
    "$$"
   ]
  },
  {
   "cell_type": "markdown",
   "metadata": {
    "ein.tags": "worksheet-0",
    "slideshow": {
     "slide_type": "-"
    }
   },
   "source": [
    "We can note two things:\n",
    "\n",
    "* This is an advection / diffusion equation with two spatial variables ($y$ and $\\theta$).\n",
    "* If $\\sigma_\\theta = 0$ then this is a transport (advection?) equation."
   ]
  },
  {
   "cell_type": "markdown",
   "metadata": {
    "ein.tags": "worksheet-0",
    "slideshow": {
     "slide_type": "-"
    }
   },
   "source": [
    "$$\n",
    "\\frac{\\partial}{\\partial t} p(t, y, \\theta)+\\frac{\\partial}{\\partial y}(\\theta y p(t, y, \\theta))=0\n",
    "$$"
   ]
  },
  {
   "cell_type": "markdown",
   "metadata": {
    "ein.tags": "worksheet-0",
    "slideshow": {
     "slide_type": "-"
    }
   },
   "source": [
    "Notice that there is nothing stochastic about the biology but we\n",
    "express our uncertainty about the parameter by making it a\n",
    "time-varying stochastic variable which says the further we go into the\n",
    "future the less certain we are about it.\n",
    "\n",
    "We are going to turn this into a Fokker-Planck equation which we can\n",
    "then solve using e.g. the method of lines. But before turning to\n",
    "Fokker-Planck, let's show that we can indeed solve a diffusion\n",
    "equation using the method of lines."
   ]
  },
  {
   "cell_type": "markdown",
   "metadata": {
    "ein.tags": "worksheet-0",
    "slideshow": {
     "slide_type": "-"
    }
   },
   "source": [
    "# Warming Up"
   ]
  },
  {
   "cell_type": "markdown",
   "metadata": {
    "ein.tags": "worksheet-0",
    "slideshow": {
     "slide_type": "-"
    }
   },
   "source": [
    "Let us solve the heat equation"
   ]
  },
  {
   "cell_type": "markdown",
   "metadata": {
    "ein.tags": "worksheet-0",
    "slideshow": {
     "slide_type": "-"
    }
   },
   "source": [
    "$$\n",
    "\\frac{\\partial u}{\\partial t}=k_{x} \\frac{\\partial^{2} u}{\\partial x^{2}}+k_{y} \\frac{\\partial^{2} u}{\\partial y^{2}}+h\n",
    "$$"
   ]
  },
  {
   "cell_type": "markdown",
   "metadata": {
    "ein.tags": "worksheet-0",
    "slideshow": {
     "slide_type": "-"
    }
   },
   "source": [
    "with initial condition $u(0, x, y) = 0$ and stationary boundary conditions\n",
    "\n",
    "$$\n",
    "\\frac{\\partial u}{\\partial t}(t, 0, y)=\\frac{\\partial u}{\\partial t}(t, 1, y)=\\frac{\\partial u}{\\partial t}(t, x, 0)=\\frac{\\partial u}{\\partial t}(t, x, 1)=0\n",
    "$$\n",
    "\n",
    "and a periodic heat source\n",
    "\n",
    "$$\n",
    "h(x, y)=\\sin (\\pi x) \\sin (2 \\pi y)\n",
    "$$\n",
    "\n",
    "This has analytic solution\n",
    "\n",
    "$$\n",
    "u(t, x, y)=\\frac{1-e^{-\\left(k_{x}+4 k_{y}\\right) \\pi^{2} t}}{\\left(k_{x}+4 k_{y}\\right) \\pi^{2}} \\sin (\\pi x) \\sin (2 \\pi y)\n",
    "$$"
   ]
  },
  {
   "cell_type": "markdown",
   "metadata": {
    "ein.tags": "worksheet-0",
    "slideshow": {
     "slide_type": "-"
    }
   },
   "source": [
    "The spatial derivatives are computed using second-order centered differences, with the data distributed over $n_x \\times n_y$ points on a uniform spatial grid."
   ]
  },
  {
   "cell_type": "markdown",
   "metadata": {
    "ein.tags": "worksheet-0",
    "slideshow": {
     "slide_type": "-"
    }
   },
   "source": [
    "$$\n",
    "u_{i\\,j}(t) \\triangleq u\\left(t, x_{i}, y_{j}\\right), \\quad x_{i} \\triangleq i \\Delta x, \\quad 0 \\leq i \\leq n_x-1, \\quad  y_{j} \\triangleq j \\Delta y, \\quad 0 \\leq j \\leq n_y-1\n",
    "$$"
   ]
  },
  {
   "cell_type": "markdown",
   "metadata": {
    "ein.tags": "worksheet-0",
    "slideshow": {
     "slide_type": "-"
    }
   },
   "source": [
    "$$\n",
    "\\begin{align}\n",
    "u_{x x} &= \\frac{u_{i+1\\,j}-2 u_{i\\,j}+u_{i-1\\,j}}{\\Delta x^{2}} \\\\\n",
    "u_{y y} &= \\frac{u_{i\\,j+1}-2 u_{i\\,j}+u_{i\\,j-1}}{\\Delta y^{2}}\n",
    "\\end{align}\n",
    "$$"
   ]
  },
  {
   "cell_type": "markdown",
   "metadata": {
    "ein.tags": "worksheet-0",
    "slideshow": {
     "slide_type": "-"
    }
   },
   "source": [
    "$$\n",
    "\\dot{u}_{i\\, j} = \\frac{k_x}{(\\Delta x)^2}({u_{i+1\\,j}-2 u_{i\\,j}+u_{i-1\\,j}})\n",
    "                + \\frac{k_y}{(\\Delta y)^2}({u_{i\\,j+1}-2 u_{i\\,j}+u_{i\\,j-1}})\n",
    "                + h_{i\\, j}\n",
    "$$"
   ]
  },
  {
   "cell_type": "markdown",
   "metadata": {
    "ein.tags": "worksheet-0",
    "slideshow": {
     "slide_type": "-"
    }
   },
   "source": [
    "We could try using [Naperian functors and APL-like programming in Haskell](https://www.cs.ox.ac.uk/people/jeremy.gibbons/publications/aplicative.pdf) via this [library](http://hackage.haskell.org/package/Naperian). But the performance is terrible (or it could be that the author's implementation was terrible). Moreover, applied mathematicans tend to think of everything as matrices and vectors. But flattening the above tensor operation into a matrix operation is not entirely trivial. Although the Haskell Ecosystem's support for symbolic mathematics is very rudimentary, we can use what there is to convince ourselves that we haven't made too many errors in the transcription."
   ]
  },
  {
   "cell_type": "code",
   "execution_count": 1,
   "metadata": {
    "autoscroll": false,
    "ein.hycell": false,
    "ein.tags": "worksheet-0",
    "slideshow": {
     "slide_type": "-"
    }
   },
   "outputs": [],
   "source": [
    "{-# LANGUAGE DataKinds           #-}\n",
    "{-# LANGUAGE OverloadedLists     #-}\n",
    "{-# LANGUAGE ScopedTypeVariables #-}\n",
    "{-# LANGUAGE FlexibleContexts    #-}\n",
    "{-# LANGUAGE FlexibleInstances   #-}\n",
    "{-# LANGUAGE MultiParamTypeClasses #-}\n",
    "{-# LANGUAGE GADTs               #-}\n",
    "{-# LANGUAGE TypeApplications    #-}\n",
    "{-# LANGUAGE TypeOperators       #-}\n",
    "\n",
    "import Data.Number.Symbolic\n",
    "import qualified Data.Number.Symbolic as Sym\n",
    "import Data.Proxy\n",
    "\n",
    "import qualified Naperian as N\n",
    "import qualified GHC.TypeLits as M\n",
    "import           Data.Functor\n",
    "\n",
    "import           Numeric.Sundials.ARKode.ODE\n",
    "import           Numeric.LinearAlgebra\n",
    "\n",
    "import           System.IO"
   ]
  },
  {
   "cell_type": "markdown",
   "metadata": {
    "ein.tags": "worksheet-0",
    "slideshow": {
     "slide_type": "-"
    }
   },
   "source": [
    "We can re-write the semi-discretized equations in a tensor form from which we can derive an implementation."
   ]
  },
  {
   "cell_type": "markdown",
   "metadata": {
    "ein.tags": "worksheet-0",
    "slideshow": {
     "slide_type": "-"
    }
   },
   "source": [
    "$$\n",
    "\\dot{u}_{i\\, j} = \\frac{k_x}{(\\Delta x)^2}\\sum_{k=0}^{n_x-1}\\sum_{l=0}^{n_y-1}A_{i\\,j\\,k\\,l} u_{k\\,l}\n",
    "                + \\frac{k_y}{(\\Delta y)^2}\\sum_{k=0}^{n_x-1}\\sum_{l=0}^{n_y-1}B_{i\\,j\\,k\\,l} u_{k\\,l}\n",
    "                + h_{i\\, j}\n",
    "$$"
   ]
  },
  {
   "cell_type": "markdown",
   "metadata": {
    "ein.tags": "worksheet-0",
    "slideshow": {
     "slide_type": "-"
    }
   },
   "source": [
    "\n",
    "$$\n",
    "A_{i\\, j\\, l\\, k} =\n",
    "\\begin{cases}\n",
    "0,& \\text{if } i = 0 \\\\\n",
    "0,& \\text{if } j = 0 \\\\\n",
    "1,& \\text{if } k = i-1 \\text{ and } l = j \\\\\n",
    "-2,& \\text{if } k = i \\text{ and } l = j \\\\\n",
    "1,& \\text{if } k = i+1 \\text{ and } l = j \\\\\n",
    "0,& \\text{if } i = n_x - 1 \\\\\n",
    "0,& \\text{if } j = n_y - 1 \\\\\n",
    "0,& \\text{otherwise}\n",
    "\\end{cases}\n",
    "$$"
   ]
  },
  {
   "cell_type": "markdown",
   "metadata": {
    "ein.tags": "worksheet-0",
    "slideshow": {
     "slide_type": "-"
    }
   },
   "source": [
    "\n",
    "$$\n",
    "B_{i\\, j\\, l\\, k} =\n",
    "\\begin{cases}\n",
    "0,& \\text{if } i = 0 \\\\\n",
    "0,& \\text{if } j = 0 \\\\\n",
    "1,& \\text{if } k = i \\text{ and } l = j - 1 \\\\\n",
    "-2,& \\text{if } k = i \\text{ and } l = j \\\\\n",
    "1,& \\text{if } k = i \\text{ and } l = j + 1 \\\\\n",
    "0,& \\text{if } i = n_x - 1 \\\\\n",
    "0,& \\text{if } i = n_y - 1 \\\\\n",
    "0,& \\text{otherwise}\n",
    "\\end{cases}\n",
    "$$"
   ]
  },
  {
   "cell_type": "markdown",
   "metadata": {},
   "source": [
    "Let's write down the tensor $A$ in Haskell"
   ]
  },
  {
   "cell_type": "code",
   "execution_count": 2,
   "metadata": {
    "autoscroll": false,
    "ein.hycell": false,
    "ein.tags": "worksheet-0",
    "slideshow": {
     "slide_type": "-"
    }
   },
   "outputs": [],
   "source": [
    "preA :: forall b m n . (M.KnownNat m, M.KnownNat n, Num b) =>\n",
    "        N.Hyper '[N.Vector n, N.Vector m, N.Vector n, N.Vector m] b\n",
    "preA = N.Prism $ N.Prism $ N.Prism $ N.Prism $ N.Scalar $\n",
    "      N.viota @m <&> (\\(N.Fin x) ->\n",
    "      N.viota @n <&> (\\(N.Fin w) ->\n",
    "      N.viota @m <&> (\\(N.Fin v) ->\n",
    "      N.viota @n <&> (\\(N.Fin u) ->\n",
    "      (f m n x w v u)))))\n",
    "        where\n",
    "          m = fromIntegral $ M.natVal (undefined :: Proxy m)\n",
    "          n = fromIntegral $ M.natVal (undefined :: Proxy n)\n",
    "          f p q i j k l | i == 0               = 0\n",
    "                        | j == 0               = 0\n",
    "                        | i == p - 1           = 0\n",
    "                        | j == q - 1           = 0\n",
    "                        | k == i - 1 && l == j = 1\n",
    "                        | k == i     && l == j = -2\n",
    "                        | k == i + 1 && l == j = 1\n",
    "                        | otherwise            = 0"
   ]
  },
  {
   "cell_type": "markdown",
   "metadata": {},
   "source": [
    "We can concretize this to symbolic numbers"
   ]
  },
  {
   "cell_type": "code",
   "execution_count": 3,
   "metadata": {
    "autoscroll": false,
    "ein.hycell": false,
    "ein.tags": "worksheet-0",
    "slideshow": {
     "slide_type": "-"
    }
   },
   "outputs": [],
   "source": [
    "a :: forall a m n . (M.KnownNat m, M.KnownNat n, Floating a, Eq a) =>\n",
    "      N.Hyper '[N.Vector n, N.Vector m, N.Vector n, N.Vector m] (Sym a)\n",
    "a = N.binary (*) (N.Scalar $ var \"a\") preA"
   ]
  },
  {
   "cell_type": "markdown",
   "metadata": {},
   "source": [
    "And do the same for the tensor $B$"
   ]
  },
  {
   "cell_type": "code",
   "execution_count": 4,
   "metadata": {
    "autoscroll": false,
    "ein.hycell": false,
    "ein.tags": "worksheet-0",
    "slideshow": {
     "slide_type": "-"
    }
   },
   "outputs": [],
   "source": [
    "preB :: forall b m n . (M.KnownNat m, M.KnownNat n, Num b) =>\n",
    "        N.Hyper '[N.Vector n, N.Vector m, N.Vector n, N.Vector m] b\n",
    "preB = N.Prism $ N.Prism $ N.Prism $ N.Prism $ N.Scalar $\n",
    "      N.viota @m <&> (\\(N.Fin x) ->\n",
    "      N.viota @n <&> (\\(N.Fin w) ->\n",
    "      N.viota @m <&> (\\(N.Fin v) ->\n",
    "      N.viota @n <&> (\\(N.Fin u) ->\n",
    "      (f m n x w v u)))))\n",
    "        where\n",
    "          m = fromIntegral $ M.natVal (undefined :: Proxy m)\n",
    "          n = fromIntegral $ M.natVal (undefined :: Proxy n)\n",
    "          f :: Int -> Int -> Int -> Int -> Int -> Int -> b\n",
    "          f p q i j k l | i == 0                   = 0\n",
    "                        | j == 0                   = 0\n",
    "                        | i == p - 1               = 0\n",
    "                        | j == q - 1               = 0\n",
    "                        | k == i     && l == j - 1 = 1\n",
    "                        | k == i     && l == j     = -2\n",
    "                        | k == i     && l == j + 1 = 1\n",
    "                        | otherwise                = 0"
   ]
  },
  {
   "cell_type": "code",
   "execution_count": 5,
   "metadata": {
    "autoscroll": false,
    "ein.hycell": false,
    "ein.tags": "worksheet-0",
    "slideshow": {
     "slide_type": "-"
    }
   },
   "outputs": [],
   "source": [
    "b :: forall a m n . (M.KnownNat m, M.KnownNat n, Floating a, Eq a) =>\n",
    "           N.Hyper '[N.Vector n, N.Vector m, N.Vector n, N.Vector m] (Sym a)\n",
    "b = N.binary (*) (N.Scalar $ var \"b\") preB"
   ]
  },
  {
   "cell_type": "markdown",
   "metadata": {
    "ein.tags": "worksheet-0",
    "slideshow": {
     "slide_type": "-"
    }
   },
   "source": [
    "We can check that our implementation matches the mathematical formula\n",
    "by rendering it as a $\\LaTeX$."
   ]
  },
  {
   "cell_type": "code",
   "execution_count": 6,
   "metadata": {
    "autoscroll": false,
    "ein.hycell": false,
    "ein.tags": "worksheet-0",
    "slideshow": {
     "slide_type": "-"
    }
   },
   "outputs": [],
   "source": [
    "ps :: forall m n . (M.KnownNat m, M.KnownNat n) =>\n",
    "       [N.Vector n (N.Vector m ((Int, Int), Sym Double))]\n",
    "ps = N.elements $ N.crystal $ N.crystal $ N.hzipWith (,) ss rhs\n",
    "  where\n",
    "    h = N.Prism $ N.Prism $ N.Scalar $\n",
    "      N.viota @n <&> (\\(N.Fin x) ->\n",
    "      N.viota @m <&> (\\(N.Fin w) ->\n",
    "      var (\"u_{\" ++ show x ++ \",\" ++ show w ++ \"}\")))\n",
    "    rhs = N.foldrH (+) 0 $ N.foldrH (+) 0 $ N.binary (*) preFoo h\n",
    "    preFoo = N.binary (+) (a @Double @n @m) (b @Double @n @m)\n",
    "    ss = N.Prism $ N.Prism $ N.Scalar $\n",
    "         N.viota @n <&> (\\(N.Fin x) ->\n",
    "         N.viota @m <&> (\\(N.Fin w) -> (x,w)))"
   ]
  },
  {
   "cell_type": "code",
   "execution_count": 7,
   "metadata": {
    "autoscroll": false,
    "ein.hycell": false,
    "ein.tags": "worksheet-0",
    "slideshow": {
     "slide_type": "-"
    }
   },
   "outputs": [],
   "source": [
    "eqns = mapM_ putStrLn $ zipWith (++) aaa bbb\n",
    "  where\n",
    "    aaa = concatMap (N.elements . N.Prism . N.Prism . N.Scalar) $\n",
    "          fmap (fmap (fmap ((\\(i, j)-> \"u_{\" ++ show i ++ show j ++ \"} &= \") . fst))) x\n",
    "    bbb = concatMap (N.elements . N.Prism . N.Prism . N.Scalar) $\n",
    "          fmap (fmap (fmap ((++ \" \\\\\\\\\") . show . snd))) x\n",
    "    x = ps @4 @3"
   ]
  },
  {
   "cell_type": "code",
   "execution_count": 8,
   "metadata": {
    "autoscroll": false,
    "ein.hycell": false,
    "ein.tags": "worksheet-0",
    "slideshow": {
     "slide_type": "-"
    }
   },
   "outputs": [
    {
     "data": {
      "text/plain": [
       "u_{00} &= 0.0 \\\\\n",
       "u_{01} &= 0.0 \\\\\n",
       "u_{02} &= 0.0 \\\\\n",
       "u_{03} &= 0.0 \\\\\n",
       "u_{10} &= 0.0 \\\\\n",
       "u_{11} &= a*u_{0,1}+b*u_{1,0}+((-2.0)*a+(-2.0)*b)*u_{1,1}+b*u_{1,2}+a*u_{2,1} \\\\\n",
       "u_{12} &= a*u_{0,2}+b*u_{1,1}+((-2.0)*a+(-2.0)*b)*u_{1,2}+b*u_{1,3}+a*u_{2,2} \\\\\n",
       "u_{13} &= 0.0 \\\\\n",
       "u_{20} &= 0.0 \\\\\n",
       "u_{21} &= 0.0 \\\\\n",
       "u_{22} &= 0.0 \\\\\n",
       "u_{23} &= 0.0 \\\\"
      ]
     },
     "metadata": {},
     "output_type": "display_data"
    }
   ],
   "source": [
    "eqns"
   ]
  },
  {
   "cell_type": "markdown",
   "metadata": {
    "ein.tags": "worksheet-0",
    "slideshow": {
     "slide_type": "-"
    }
   },
   "source": [
    "And then getting our notebook to render the $\\LaTeX$."
   ]
  },
  {
   "cell_type": "markdown",
   "metadata": {
    "ein.tags": "worksheet-0",
    "slideshow": {
     "slide_type": "-"
    }
   },
   "source": [
    "$$\n",
    "\\begin{aligned}\n",
    "u_{00} &= 0.0 \\\\\n",
    "u_{01} &= 0.0 \\\\\n",
    "u_{02} &= 0.0 \\\\\n",
    "u_{03} &= 0.0 \\\\\n",
    "u_{10} &= 0.0 \\\\\n",
    "u_{11} &= a*u_{0,1}+b*u_{1,0}+((-2.0)*a+(-2.0)*b)*u_{1,1}+b*u_{1,2}+a*u_{2,1} \\\\\n",
    "u_{12} &= a*u_{0,2}+b*u_{1,1}+((-2.0)*a+(-2.0)*b)*u_{1,2}+b*u_{1,3}+a*u_{2,2} \\\\\n",
    "u_{13} &= 0.0 \\\\\n",
    "u_{20} &= 0.0 \\\\\n",
    "u_{21} &= 0.0 \\\\\n",
    "u_{22} &= 0.0 \\\\\n",
    "u_{23} &= 0.0 \\\\\n",
    "\\end{aligned}\n",
    "$$"
   ]
  },
  {
   "cell_type": "markdown",
   "metadata": {},
   "source": [
    "Now we have checked that our tensors look correct (at least for a particular and small tensor) we can try solving the system numerically"
   ]
  },
  {
   "cell_type": "markdown",
   "metadata": {
    "ein.tags": "worksheet-0",
    "slideshow": {
     "slide_type": "-"
    }
   },
   "source": [
    "Spatial mesh size:"
   ]
  },
  {
   "cell_type": "code",
   "execution_count": 9,
   "metadata": {
    "autoscroll": false,
    "ein.hycell": false,
    "ein.tags": "worksheet-0",
    "slideshow": {
     "slide_type": "-"
    }
   },
   "outputs": [],
   "source": [
    "nx, ny :: Int\n",
    "nx = 3\n",
    "ny = 4"
   ]
  },
  {
   "cell_type": "markdown",
   "metadata": {
    "ein.tags": "worksheet-0",
    "slideshow": {
     "slide_type": "-"
    }
   },
   "source": [
    "Heat conductivity coefficients:"
   ]
  },
  {
   "cell_type": "code",
   "execution_count": 10,
   "metadata": {
    "autoscroll": false,
    "ein.hycell": false,
    "ein.tags": "worksheet-0",
    "slideshow": {
     "slide_type": "-"
    }
   },
   "outputs": [],
   "source": [
    "kx, ky :: Floating a => a\n",
    "kx = 0.5\n",
    "ky = 0.75"
   ]
  },
  {
   "cell_type": "markdown",
   "metadata": {
    "ein.tags": "worksheet-0",
    "slideshow": {
     "slide_type": "-"
    }
   },
   "source": [
    "x and y mesh spacing:"
   ]
  },
  {
   "cell_type": "code",
   "execution_count": 11,
   "metadata": {
    "autoscroll": false,
    "ein.hycell": false,
    "ein.tags": "worksheet-0",
    "slideshow": {
     "slide_type": "-"
    }
   },
   "outputs": [],
   "source": [
    "dx :: Floating a => a\n",
    "dx = 1 / (fromIntegral nx - 1)\n",
    "dy :: Floating a => a\n",
    "dy = 1 / (fromIntegral ny - 1)"
   ]
  },
  {
   "cell_type": "code",
   "execution_count": 12,
   "metadata": {
    "autoscroll": false,
    "ein.hycell": false,
    "ein.tags": "worksheet-0",
    "slideshow": {
     "slide_type": "-"
    }
   },
   "outputs": [],
   "source": [
    "c1, c2 :: Floating a => a\n",
    "c1 = kx/dx/dx\n",
    "c2 = ky/dy/dy"
   ]
  },
  {
   "cell_type": "markdown",
   "metadata": {},
   "source": [
    "Now we make the tensors more concrete by ensuring their elements come from `Floating`"
   ]
  },
  {
   "cell_type": "code",
   "execution_count": 13,
   "metadata": {
    "autoscroll": false,
    "ein.hycell": false,
    "ein.tags": "worksheet-0",
    "slideshow": {
     "slide_type": "-"
    }
   },
   "outputs": [],
   "source": [
    "bNum :: forall a m n . (M.KnownNat m, M.KnownNat n, Floating a) =>\n",
    "        N.Hyper '[N.Vector n, N.Vector m, N.Vector n, N.Vector m] a\n",
    "bNum = N.binary (*) (N.Scalar c1) preB"
   ]
  },
  {
   "cell_type": "code",
   "execution_count": 14,
   "metadata": {
    "autoscroll": false,
    "ein.hycell": false,
    "ein.tags": "worksheet-0",
    "slideshow": {
     "slide_type": "-"
    }
   },
   "outputs": [],
   "source": [
    "aNum :: forall a m n . (M.KnownNat m, M.KnownNat n, Floating a) =>\n",
    "        N.Hyper '[N.Vector n, N.Vector m, N.Vector n, N.Vector m] a\n",
    "aNum = N.binary (*) (N.Scalar c2) preA"
   ]
  },
  {
   "cell_type": "markdown",
   "metadata": {},
   "source": [
    "Again we flatten the system into a matrix form so we can check everything looks as it should"
   ]
  },
  {
   "cell_type": "code",
   "execution_count": 15,
   "metadata": {
    "autoscroll": false,
    "ein.hycell": false,
    "ein.tags": "worksheet-0",
    "slideshow": {
     "slide_type": "-"
    }
   },
   "outputs": [],
   "source": [
    "bigA :: Matrix Double\n",
    "bigA = fromLists $\n",
    "       fmap (N.elements . N.Prism . N.Prism . N.Scalar) $\n",
    "       N.elements $ N.crystal $ N.crystal $ N.binary (+)\n",
    "       (aNum @Double @4 @3) (bNum @Double @4 @3)"
   ]
  },
  {
   "cell_type": "code",
   "execution_count": 16,
   "metadata": {
    "autoscroll": false,
    "ein.hycell": false,
    "ein.tags": "worksheet-0",
    "slideshow": {
     "slide_type": "-"
    }
   },
   "outputs": [
    {
     "data": {
      "text/plain": [
       "(12><12)\n",
       " [ 0.0,  0.0, 0.0, 0.0,   0.0, 0.0, 0.0,   0.0, 0.0, 0.0,  0.0, 0.0\n",
       " , 0.0,  0.0, 0.0, 0.0,   0.0, 0.0, 0.0,   0.0, 0.0, 0.0,  0.0, 0.0\n",
       " , 0.0,  0.0, 0.0, 0.0,   0.0, 0.0, 0.0,   0.0, 0.0, 0.0,  0.0, 0.0\n",
       " , 0.0,  0.0, 0.0, 0.0,   0.0, 0.0, 0.0,   0.0, 0.0, 0.0,  0.0, 0.0\n",
       " , 0.0, 6.75, 0.0, 2.0, -17.5, 2.0, 0.0,  6.75, 0.0, 0.0,  0.0, 0.0\n",
       " , 0.0,  0.0, 0.0, 0.0,   0.0, 0.0, 0.0,   0.0, 0.0, 0.0,  0.0, 0.0\n",
       " , 0.0,  0.0, 0.0, 0.0,   0.0, 0.0, 0.0,   0.0, 0.0, 0.0,  0.0, 0.0\n",
       " , 0.0,  0.0, 0.0, 0.0,  6.75, 0.0, 2.0, -17.5, 2.0, 0.0, 6.75, 0.0\n",
       " , 0.0,  0.0, 0.0, 0.0,   0.0, 0.0, 0.0,   0.0, 0.0, 0.0,  0.0, 0.0\n",
       " , 0.0,  0.0, 0.0, 0.0,   0.0, 0.0, 0.0,   0.0, 0.0, 0.0,  0.0, 0.0\n",
       " , 0.0,  0.0, 0.0, 0.0,   0.0, 0.0, 0.0,   0.0, 0.0, 0.0,  0.0, 0.0\n",
       " , 0.0,  0.0, 0.0, 0.0,   0.0, 0.0, 0.0,   0.0, 0.0, 0.0,  0.0, 0.0 ]"
      ]
     },
     "metadata": {},
     "output_type": "display_data"
    }
   ],
   "source": [
    "bigA"
   ]
  },
  {
   "cell_type": "code",
   "execution_count": 17,
   "metadata": {
    "autoscroll": false,
    "ein.hycell": false,
    "ein.tags": "worksheet-0",
    "slideshow": {
     "slide_type": "-"
    }
   },
   "outputs": [],
   "source": [
    "h :: forall m n a . (M.KnownNat m, M.KnownNat n, Floating a) =>\n",
    "                     N.Hyper '[N.Vector m, N.Vector n] a\n",
    "h = N.Prism $ N.Prism $ N.Scalar $\n",
    "     N.viota @n <&> (\\(N.Fin x) ->\n",
    "     N.viota @m <&> (\\(N.Fin w) ->\n",
    "     sin (pi * (fromIntegral w) * dx)\n",
    "             * sin (2 * pi * (fromIntegral x) * dy)))"
   ]
  },
  {
   "cell_type": "code",
   "execution_count": 18,
   "metadata": {
    "autoscroll": false,
    "ein.hycell": false,
    "ein.tags": "worksheet-0",
    "slideshow": {
     "slide_type": "-"
    }
   },
   "outputs": [],
   "source": [
    "c :: Vector Double\n",
    "c = fromList $ N.elements (h @3 @4 @Double)"
   ]
  },
  {
   "cell_type": "code",
   "execution_count": 19,
   "metadata": {
    "autoscroll": false,
    "ein.hycell": false,
    "ein.tags": "worksheet-0",
    "slideshow": {
     "slide_type": "-"
    }
   },
   "outputs": [],
   "source": [
    "t0, tf :: Double\n",
    "t0 = 0.0\n",
    "tf = 0.3\n",
    "\n",
    "bigNt :: Int\n",
    "bigNt = 20\n",
    "\n",
    "dTout :: Double\n",
    "dTout = (tf - t0) / (fromIntegral bigNt)\n",
    "\n",
    "ts :: [Double]\n",
    "ts = map (dTout *) $ map fromIntegral [1..bigNt]\n",
    "\n",
    "sol :: Matrix Double\n",
    "sol = odeSolveV SDIRK_5_3_4' Nothing 1.0e-5 1.0e-10 (const bigU') (assoc (nx * ny) 0.0 [] :: Vector Double) (fromList $ ts)\n",
    "  where\n",
    "    bigU' bigU = bigA #> bigU + c"
   ]
  },
  {
   "cell_type": "code",
   "execution_count": 20,
   "metadata": {
    "autoscroll": false,
    "ein.hycell": false,
    "ein.tags": "worksheet-0",
    "slideshow": {
     "slide_type": "-"
    }
   },
   "outputs": [],
   "source": [
    "main :: IO ()\n",
    "main = do\n",
    "  h1 <- openFile \"Haskell.txt\" WriteMode\n",
    "  mapM_ (hPutStrLn h1) $ map (concatMap (' ':)) $ map (map show) $ toLists sol\n",
    "  hClose h1\n",
    "  mapM_ (\\i -> putStrLn $ show $ sqrt $ (sol!i) <.> (sol!i) / (fromIntegral nx) / (fromIntegral ny)) ([0 .. length ts - 1] :: [Int])"
   ]
  },
  {
   "cell_type": "code",
   "execution_count": 21,
   "metadata": {},
   "outputs": [
    {
     "data": {
      "text/plain": [
       "0.0\n",
       "4.445792552162428e-3\n",
       "7.536496589199581e-3\n",
       "9.685474590386838e-3\n",
       "1.1179180479250954e-2\n",
       "1.2215783380962438e-2\n",
       "1.2936469361667507e-2\n",
       "1.3437435527874617e-2\n",
       "1.3785614451622913e-2\n",
       "1.4027670958010267e-2\n",
       "1.4196099215739022e-2\n",
       "1.4312878038957881e-2\n",
       "1.4394259941155774e-2\n",
       "1.4450706139605892e-2\n",
       "1.4490277045502337e-2\n",
       "1.451741051111616e-2\n",
       "1.4536171194645382e-2\n",
       "1.4549482462569737e-2\n",
       "1.45586417237852e-2\n",
       "1.4564936158380733e-2"
      ]
     },
     "metadata": {},
     "output_type": "display_data"
    }
   ],
   "source": [
    "main"
   ]
  },
  {
   "cell_type": "markdown",
   "metadata": {},
   "source": [
    "The grid is unrealistically coarse. Let's check the Haskell implementation against a [reference C implmentation](https://github.com/LLNL/sundials/blob/master/examples/arkode/CXX_parallel/README)  with a better grid size."
   ]
  },
  {
   "cell_type": "markdown",
   "metadata": {},
   "source": [
    "```\n",
    "nix-shell -I nixpkgs=https://github.com/NixOS/nixpkgs/archive/19.09.tar.gz\n",
    "mpicxx ark_heat2D.cpp -lm -lsundials_arkode -lsundials_nvecparallel -o ark_heat2D\n",
    "mpiexec -n 1 ./ark_heat2D\n",
    "python plot_heat2D.py\n",
    "```"
   ]
  },
  {
   "cell_type": "markdown",
   "metadata": {},
   "source": [
    "We could run with more processors but it's easier to modify the python to work on the Haskell output if we don't."
   ]
  },
  {
   "cell_type": "markdown",
   "metadata": {},
   "source": [
    "```\n",
    "nix-shell -I nixpkgs=https://github.com/NixOS/nixpkgs/archive/19.09.tar.gz\n",
    "ghc -O2 -fforce-recomp Heat2D.hs -main-is Heat2D -o Heat2D\n",
    "./Heat2D\n",
    "python plot_heat2D.py\n",
    "```"
   ]
  },
  {
   "cell_type": "markdown",
   "metadata": {},
   "source": [
    "![](diagrams/heat2e_surf.019.png)"
   ]
  }
 ],
 "metadata": {
  "kernelspec": {
   "display_name": "Haskell",
   "language": "haskell",
   "name": "haskell"
  },
  "language_info": {
   "codemirror_mode": "ihaskell",
   "file_extension": ".hs",
   "name": "haskell",
   "pygments_lexer": "Haskell",
   "version": "8.6.4"
  },
  "name": "Two Dimensional Heat Equation.ipynb"
 },
 "nbformat": 4,
 "nbformat_minor": 2
}
